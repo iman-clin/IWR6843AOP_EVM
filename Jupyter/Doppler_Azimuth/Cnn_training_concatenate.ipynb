{
  "cells": [
    {
      "cell_type": "markdown",
      "metadata": {},
      "source": [
        "# CNN training for pattern recognition on Range-Doppler Heatmap crossed with Static Range-Azimuth Heatmap"
      ]
    },
    {
      "cell_type": "code",
      "execution_count": 32,
      "metadata": {
        "id": "OWIk50LCxL_a"
      },
      "outputs": [],
      "source": [
        "#import tensorflow.keras\n",
        "import os\n",
        "from os import listdir\n",
        "from os.path import isdir, join\n",
        "import numpy as np\n",
        "from keras import layers, models, metrics\n",
        "from subprocess import check_output\n",
        "import pandas as pd\n",
        "import matplotlib.pyplot as plt\n",
        "from sklearn.model_selection import train_test_split\n",
        "import keras\n",
        "from keras.models import Sequential, Model\n",
        "from keras.layers import Conv2D,MaxPooling2D,Dense,Flatten,Dropout\n",
        "from keras.optimizers import Adam,SGD\n",
        "from keras.callbacks import TensorBoard\n",
        "from keras.callbacks import EarlyStopping, ModelCheckpoint"
      ]
    },
    {
      "cell_type": "markdown",
      "metadata": {},
      "source": [
        "## Gathering the database"
      ]
    },
    {
      "cell_type": "code",
      "execution_count": 33,
      "metadata": {
        "id": "82NScAwdxL_f"
      },
      "outputs": [],
      "source": [
        "# CNN files paths\n",
        "work_dir  = os.getcwd()\n",
        "filename_dop = 'all_targets_cross_1080'\n",
        "features_filename = filename_dop + '.npz'\n",
        "model_filename = filename_dop + '.h5'"
      ]
    },
    {
      "cell_type": "code",
      "execution_count": 34,
      "metadata": {
        "colab": {
          "base_uri": "https://localhost:8080/"
        },
        "id": "umnFxNjfxL_f",
        "outputId": "fddb1cc5-1e29-4931-fd69-b579344917d8"
      },
      "outputs": [
        {
          "name": "stdout",
          "output_type": "stream",
          "text": [
            "features for data set: ['x_train_az', 'x_train_dop', 'y_train', 'x_val_az', 'x_val_dop', 'y_val', 'x_test_az', 'x_test_dop', 'y_test']\n"
          ]
        }
      ],
      "source": [
        "# Load feature set\n",
        "features_set = np.load(join(work_dir, features_filename))\n",
        "print('features for data set:',features_set.files)\n",
        "\n",
        "features_set_dop = np.load(join(work_dir,features_filename))"
      ]
    },
    {
      "cell_type": "code",
      "execution_count": 35,
      "metadata": {
        "id": "yagFFPmsxL_g"
      },
      "outputs": [],
      "source": [
        "# Assign feature sets\n",
        "x_train_az = features_set['x_train_az']\n",
        "x_train_dop = features_set['x_train_dop']\n",
        "y_train = features_set['y_train']\n",
        "x_val_az = features_set['x_val_az']\n",
        "x_val_dop = features_set['x_val_dop']\n",
        "y_val = features_set['y_val']\n",
        "x_test_az = features_set['x_test_az']\n",
        "x_test_dop = features_set['x_test_dop']\n",
        "y_test = features_set['y_test']"
      ]
    },
    {
      "cell_type": "code",
      "execution_count": 36,
      "metadata": {
        "colab": {
          "base_uri": "https://localhost:8080/"
        },
        "id": "Kjcy59HvxL_g",
        "outputId": "a1581d92-073a-4af2-dc08-e61d9e035d8f"
      },
      "outputs": [
        {
          "name": "stdout",
          "output_type": "stream",
          "text": [
            "training input shape : (756, 256, 31) (756, 31, 256)\n",
            "validation input shape : (162, 256, 31) (756, 31, 256)\n",
            "test input shape : (162, 256, 31) (162, 31, 256)\n"
          ]
        }
      ],
      "source": [
        "# Look at tensor dimensions\n",
        "print('training input shape :',x_train_az.shape, x_train_dop.shape)\n",
        "print('validation input shape :',x_val_az.shape, x_train_dop.shape)\n",
        "print('test input shape :',x_test_az.shape, x_test_dop.shape)"
      ]
    },
    {
      "cell_type": "code",
      "execution_count": 37,
      "metadata": {
        "id": "8cScxsYHxL_j"
      },
      "outputs": [],
      "source": [
        "# Sample shape\n",
        "ANGLE_BINS = x_train_dop.shape[1]\n",
        "RANGE_BINS = x_train_dop.shape[2]"
      ]
    },
    {
      "cell_type": "code",
      "execution_count": 38,
      "metadata": {},
      "outputs": [],
      "source": [
        "def transpose_dset(x):\n",
        "    temp = np.zeros((x.shape[0],x.shape[2],x.shape[1]),dtype=np.float32)\n",
        "    for i in range (len(x)):\n",
        "        temp[i] = np.transpose(x[i])\n",
        "    return(temp)"
      ]
    },
    {
      "cell_type": "code",
      "execution_count": 39,
      "metadata": {},
      "outputs": [],
      "source": [
        "x_train_az = transpose_dset(x_train_az)\n",
        "x_val_az = transpose_dset(x_val_az)\n",
        "x_test_az = transpose_dset(x_test_az)"
      ]
    },
    {
      "cell_type": "code",
      "execution_count": 40,
      "metadata": {},
      "outputs": [],
      "source": [
        "def concat_dset(x,y):\n",
        "    temp = np.zeros((x.shape[0],x.shape[1]+y.shape[1],x.shape[2]),dtype=np.float32)\n",
        "    for i in range (len(x)):\n",
        "        temp[i]=np.concatenate((x[i],y[i]))\n",
        "    return(temp)"
      ]
    },
    {
      "cell_type": "code",
      "execution_count": 41,
      "metadata": {},
      "outputs": [],
      "source": [
        "x_train = concat_dset(x_train_az,x_train_dop)\n",
        "x_val = concat_dset(x_val_az,x_val_dop)\n",
        "x_test = concat_dset(x_test_az,x_test_dop)"
      ]
    },
    {
      "cell_type": "code",
      "execution_count": 42,
      "metadata": {
        "colab": {
          "base_uri": "https://localhost:8080/"
        },
        "id": "gZSqWeIQxL_j",
        "outputId": "c0e099e5-7200-4d04-e1b7-707764c9c409"
      },
      "outputs": [
        {
          "name": "stdout",
          "output_type": "stream",
          "text": [
            "number of training samples : 756\n",
            "number of validation samples : 162\n",
            "number of test samples : 162\n",
            "Sample shape : (62, 256, 1)\n"
          ]
        }
      ],
      "source": [
        "# CNN for TF expects (batch (lote), height, width, channels)\n",
        "# So we reshape the input tensors with a \"color\" channel of ''\n",
        "\n",
        "x_train = x_train.reshape(int(x_train.shape[0]),\n",
        "                          ANGLE_BINS*2,\n",
        "                          RANGE_BINS,\n",
        "                          1)\n",
        "x_val = x_val.reshape(int(x_val.shape[0]),\n",
        "                          ANGLE_BINS*2,\n",
        "                          RANGE_BINS,\n",
        "                          1)\n",
        "x_test = x_test.reshape(int(x_test_az.shape[0]),\n",
        "                        ANGLE_BINS*2,\n",
        "                        RANGE_BINS,\n",
        "                        1)\n",
        "\n",
        "print('number of training samples :',x_train.shape[0])\n",
        "print('number of validation samples :',x_val.shape[0])\n",
        "print('number of test samples :',x_test.shape[0])\n",
        "\n",
        "sample_shape = x_test.shape[1:]\n",
        "print('Sample shape :',sample_shape)"
      ]
    },
    {
      "cell_type": "markdown",
      "metadata": {},
      "source": [
        "## CNN Model construction and training"
      ]
    },
    {
      "cell_type": "markdown",
      "metadata": {},
      "source": [
        "### Model Construction"
      ]
    },
    {
      "cell_type": "code",
      "execution_count": 43,
      "metadata": {},
      "outputs": [],
      "source": [
        "# Read CSV Function\n",
        "def readCSV(filename):\n",
        "    data = np.loadtxt(filename, dtype = np.float32, delimiter = ' ')\n",
        "    return data\n",
        "\n",
        "y = readCSV(join(work_dir,\"Dataset\\\\Azimuth\\\\idle\\\\2024_7_4_10_16_16_idle_0.csv\"))\n",
        "y = np.transpose(readCSV(join(work_dir,\"Dataset\\\\Doppler\\\\idle\\\\2024_7_4_10_16_14_idle_0.csv\")))"
      ]
    },
    {
      "cell_type": "code",
      "execution_count": 44,
      "metadata": {
        "colab": {
          "base_uri": "https://localhost:8080/"
        },
        "id": "BbQ5LuzSxL_k",
        "outputId": "8fae3585-7245-4012-9fb1-ba789413248d"
      },
      "outputs": [
        {
          "data": {
            "text/html": [
              "<pre style=\"white-space:pre;overflow-x:auto;line-height:normal;font-family:Menlo,'DejaVu Sans Mono',consolas,'Courier New',monospace\"><span style=\"font-weight: bold\">Model: \"sequential_2\"</span>\n",
              "</pre>\n"
            ],
            "text/plain": [
              "\u001b[1mModel: \"sequential_2\"\u001b[0m\n"
            ]
          },
          "metadata": {},
          "output_type": "display_data"
        },
        {
          "data": {
            "text/html": [
              "<pre style=\"white-space:pre;overflow-x:auto;line-height:normal;font-family:Menlo,'DejaVu Sans Mono',consolas,'Courier New',monospace\">┏━━━━━━━━━━━━━━━━━━━━━━━━━━━━━━━━━┳━━━━━━━━━━━━━━━━━━━━━━━━┳━━━━━━━━━━━━━━━┓\n",
              "┃<span style=\"font-weight: bold\"> Layer (type)                    </span>┃<span style=\"font-weight: bold\"> Output Shape           </span>┃<span style=\"font-weight: bold\">       Param # </span>┃\n",
              "┡━━━━━━━━━━━━━━━━━━━━━━━━━━━━━━━━━╇━━━━━━━━━━━━━━━━━━━━━━━━╇━━━━━━━━━━━━━━━┩\n",
              "│ Conv2D_layer1 (<span style=\"color: #0087ff; text-decoration-color: #0087ff\">Conv2D</span>)          │ (<span style=\"color: #00d7ff; text-decoration-color: #00d7ff\">None</span>, <span style=\"color: #00af00; text-decoration-color: #00af00\">62</span>, <span style=\"color: #00af00; text-decoration-color: #00af00\">256</span>, <span style=\"color: #00af00; text-decoration-color: #00af00\">4</span>)     │            <span style=\"color: #00af00; text-decoration-color: #00af00\">40</span> │\n",
              "├─────────────────────────────────┼────────────────────────┼───────────────┤\n",
              "│ Pooling_layer1 (<span style=\"color: #0087ff; text-decoration-color: #0087ff\">MaxPooling2D</span>)   │ (<span style=\"color: #00d7ff; text-decoration-color: #00d7ff\">None</span>, <span style=\"color: #00af00; text-decoration-color: #00af00\">31</span>, <span style=\"color: #00af00; text-decoration-color: #00af00\">128</span>, <span style=\"color: #00af00; text-decoration-color: #00af00\">4</span>)     │             <span style=\"color: #00af00; text-decoration-color: #00af00\">0</span> │\n",
              "├─────────────────────────────────┼────────────────────────┼───────────────┤\n",
              "│ Conv2D_layer2 (<span style=\"color: #0087ff; text-decoration-color: #0087ff\">Conv2D</span>)          │ (<span style=\"color: #00d7ff; text-decoration-color: #00d7ff\">None</span>, <span style=\"color: #00af00; text-decoration-color: #00af00\">31</span>, <span style=\"color: #00af00; text-decoration-color: #00af00\">128</span>, <span style=\"color: #00af00; text-decoration-color: #00af00\">16</span>)    │           <span style=\"color: #00af00; text-decoration-color: #00af00\">592</span> │\n",
              "├─────────────────────────────────┼────────────────────────┼───────────────┤\n",
              "│ Pooling_layer2 (<span style=\"color: #0087ff; text-decoration-color: #0087ff\">MaxPooling2D</span>)   │ (<span style=\"color: #00d7ff; text-decoration-color: #00d7ff\">None</span>, <span style=\"color: #00af00; text-decoration-color: #00af00\">15</span>, <span style=\"color: #00af00; text-decoration-color: #00af00\">64</span>, <span style=\"color: #00af00; text-decoration-color: #00af00\">16</span>)     │             <span style=\"color: #00af00; text-decoration-color: #00af00\">0</span> │\n",
              "├─────────────────────────────────┼────────────────────────┼───────────────┤\n",
              "│ Conv2D_layer3 (<span style=\"color: #0087ff; text-decoration-color: #0087ff\">Conv2D</span>)          │ (<span style=\"color: #00d7ff; text-decoration-color: #00d7ff\">None</span>, <span style=\"color: #00af00; text-decoration-color: #00af00\">15</span>, <span style=\"color: #00af00; text-decoration-color: #00af00\">64</span>, <span style=\"color: #00af00; text-decoration-color: #00af00\">32</span>)     │         <span style=\"color: #00af00; text-decoration-color: #00af00\">4,640</span> │\n",
              "├─────────────────────────────────┼────────────────────────┼───────────────┤\n",
              "│ Pooling_layer3 (<span style=\"color: #0087ff; text-decoration-color: #0087ff\">MaxPooling2D</span>)   │ (<span style=\"color: #00d7ff; text-decoration-color: #00d7ff\">None</span>, <span style=\"color: #00af00; text-decoration-color: #00af00\">7</span>, <span style=\"color: #00af00; text-decoration-color: #00af00\">32</span>, <span style=\"color: #00af00; text-decoration-color: #00af00\">32</span>)      │             <span style=\"color: #00af00; text-decoration-color: #00af00\">0</span> │\n",
              "├─────────────────────────────────┼────────────────────────┼───────────────┤\n",
              "│ flatten_2 (<span style=\"color: #0087ff; text-decoration-color: #0087ff\">Flatten</span>)             │ (<span style=\"color: #00d7ff; text-decoration-color: #00d7ff\">None</span>, <span style=\"color: #00af00; text-decoration-color: #00af00\">7168</span>)           │             <span style=\"color: #00af00; text-decoration-color: #00af00\">0</span> │\n",
              "├─────────────────────────────────┼────────────────────────┼───────────────┤\n",
              "│ dense_6 (<span style=\"color: #0087ff; text-decoration-color: #0087ff\">Dense</span>)                 │ (<span style=\"color: #00d7ff; text-decoration-color: #00d7ff\">None</span>, <span style=\"color: #00af00; text-decoration-color: #00af00\">128</span>)            │       <span style=\"color: #00af00; text-decoration-color: #00af00\">917,632</span> │\n",
              "├─────────────────────────────────┼────────────────────────┼───────────────┤\n",
              "│ dropout_4 (<span style=\"color: #0087ff; text-decoration-color: #0087ff\">Dropout</span>)             │ (<span style=\"color: #00d7ff; text-decoration-color: #00d7ff\">None</span>, <span style=\"color: #00af00; text-decoration-color: #00af00\">128</span>)            │             <span style=\"color: #00af00; text-decoration-color: #00af00\">0</span> │\n",
              "├─────────────────────────────────┼────────────────────────┼───────────────┤\n",
              "│ dense_7 (<span style=\"color: #0087ff; text-decoration-color: #0087ff\">Dense</span>)                 │ (<span style=\"color: #00d7ff; text-decoration-color: #00d7ff\">None</span>, <span style=\"color: #00af00; text-decoration-color: #00af00\">32</span>)             │         <span style=\"color: #00af00; text-decoration-color: #00af00\">4,128</span> │\n",
              "├─────────────────────────────────┼────────────────────────┼───────────────┤\n",
              "│ dropout_5 (<span style=\"color: #0087ff; text-decoration-color: #0087ff\">Dropout</span>)             │ (<span style=\"color: #00d7ff; text-decoration-color: #00d7ff\">None</span>, <span style=\"color: #00af00; text-decoration-color: #00af00\">32</span>)             │             <span style=\"color: #00af00; text-decoration-color: #00af00\">0</span> │\n",
              "├─────────────────────────────────┼────────────────────────┼───────────────┤\n",
              "│ dense_8 (<span style=\"color: #0087ff; text-decoration-color: #0087ff\">Dense</span>)                 │ (<span style=\"color: #00d7ff; text-decoration-color: #00d7ff\">None</span>, <span style=\"color: #00af00; text-decoration-color: #00af00\">3</span>)              │            <span style=\"color: #00af00; text-decoration-color: #00af00\">99</span> │\n",
              "└─────────────────────────────────┴────────────────────────┴───────────────┘\n",
              "</pre>\n"
            ],
            "text/plain": [
              "┏━━━━━━━━━━━━━━━━━━━━━━━━━━━━━━━━━┳━━━━━━━━━━━━━━━━━━━━━━━━┳━━━━━━━━━━━━━━━┓\n",
              "┃\u001b[1m \u001b[0m\u001b[1mLayer (type)                   \u001b[0m\u001b[1m \u001b[0m┃\u001b[1m \u001b[0m\u001b[1mOutput Shape          \u001b[0m\u001b[1m \u001b[0m┃\u001b[1m \u001b[0m\u001b[1m      Param #\u001b[0m\u001b[1m \u001b[0m┃\n",
              "┡━━━━━━━━━━━━━━━━━━━━━━━━━━━━━━━━━╇━━━━━━━━━━━━━━━━━━━━━━━━╇━━━━━━━━━━━━━━━┩\n",
              "│ Conv2D_layer1 (\u001b[38;5;33mConv2D\u001b[0m)          │ (\u001b[38;5;45mNone\u001b[0m, \u001b[38;5;34m62\u001b[0m, \u001b[38;5;34m256\u001b[0m, \u001b[38;5;34m4\u001b[0m)     │            \u001b[38;5;34m40\u001b[0m │\n",
              "├─────────────────────────────────┼────────────────────────┼───────────────┤\n",
              "│ Pooling_layer1 (\u001b[38;5;33mMaxPooling2D\u001b[0m)   │ (\u001b[38;5;45mNone\u001b[0m, \u001b[38;5;34m31\u001b[0m, \u001b[38;5;34m128\u001b[0m, \u001b[38;5;34m4\u001b[0m)     │             \u001b[38;5;34m0\u001b[0m │\n",
              "├─────────────────────────────────┼────────────────────────┼───────────────┤\n",
              "│ Conv2D_layer2 (\u001b[38;5;33mConv2D\u001b[0m)          │ (\u001b[38;5;45mNone\u001b[0m, \u001b[38;5;34m31\u001b[0m, \u001b[38;5;34m128\u001b[0m, \u001b[38;5;34m16\u001b[0m)    │           \u001b[38;5;34m592\u001b[0m │\n",
              "├─────────────────────────────────┼────────────────────────┼───────────────┤\n",
              "│ Pooling_layer2 (\u001b[38;5;33mMaxPooling2D\u001b[0m)   │ (\u001b[38;5;45mNone\u001b[0m, \u001b[38;5;34m15\u001b[0m, \u001b[38;5;34m64\u001b[0m, \u001b[38;5;34m16\u001b[0m)     │             \u001b[38;5;34m0\u001b[0m │\n",
              "├─────────────────────────────────┼────────────────────────┼───────────────┤\n",
              "│ Conv2D_layer3 (\u001b[38;5;33mConv2D\u001b[0m)          │ (\u001b[38;5;45mNone\u001b[0m, \u001b[38;5;34m15\u001b[0m, \u001b[38;5;34m64\u001b[0m, \u001b[38;5;34m32\u001b[0m)     │         \u001b[38;5;34m4,640\u001b[0m │\n",
              "├─────────────────────────────────┼────────────────────────┼───────────────┤\n",
              "│ Pooling_layer3 (\u001b[38;5;33mMaxPooling2D\u001b[0m)   │ (\u001b[38;5;45mNone\u001b[0m, \u001b[38;5;34m7\u001b[0m, \u001b[38;5;34m32\u001b[0m, \u001b[38;5;34m32\u001b[0m)      │             \u001b[38;5;34m0\u001b[0m │\n",
              "├─────────────────────────────────┼────────────────────────┼───────────────┤\n",
              "│ flatten_2 (\u001b[38;5;33mFlatten\u001b[0m)             │ (\u001b[38;5;45mNone\u001b[0m, \u001b[38;5;34m7168\u001b[0m)           │             \u001b[38;5;34m0\u001b[0m │\n",
              "├─────────────────────────────────┼────────────────────────┼───────────────┤\n",
              "│ dense_6 (\u001b[38;5;33mDense\u001b[0m)                 │ (\u001b[38;5;45mNone\u001b[0m, \u001b[38;5;34m128\u001b[0m)            │       \u001b[38;5;34m917,632\u001b[0m │\n",
              "├─────────────────────────────────┼────────────────────────┼───────────────┤\n",
              "│ dropout_4 (\u001b[38;5;33mDropout\u001b[0m)             │ (\u001b[38;5;45mNone\u001b[0m, \u001b[38;5;34m128\u001b[0m)            │             \u001b[38;5;34m0\u001b[0m │\n",
              "├─────────────────────────────────┼────────────────────────┼───────────────┤\n",
              "│ dense_7 (\u001b[38;5;33mDense\u001b[0m)                 │ (\u001b[38;5;45mNone\u001b[0m, \u001b[38;5;34m32\u001b[0m)             │         \u001b[38;5;34m4,128\u001b[0m │\n",
              "├─────────────────────────────────┼────────────────────────┼───────────────┤\n",
              "│ dropout_5 (\u001b[38;5;33mDropout\u001b[0m)             │ (\u001b[38;5;45mNone\u001b[0m, \u001b[38;5;34m32\u001b[0m)             │             \u001b[38;5;34m0\u001b[0m │\n",
              "├─────────────────────────────────┼────────────────────────┼───────────────┤\n",
              "│ dense_8 (\u001b[38;5;33mDense\u001b[0m)                 │ (\u001b[38;5;45mNone\u001b[0m, \u001b[38;5;34m3\u001b[0m)              │            \u001b[38;5;34m99\u001b[0m │\n",
              "└─────────────────────────────────┴────────────────────────┴───────────────┘\n"
            ]
          },
          "metadata": {},
          "output_type": "display_data"
        },
        {
          "data": {
            "text/html": [
              "<pre style=\"white-space:pre;overflow-x:auto;line-height:normal;font-family:Menlo,'DejaVu Sans Mono',consolas,'Courier New',monospace\"><span style=\"font-weight: bold\"> Total params: </span><span style=\"color: #00af00; text-decoration-color: #00af00\">927,131</span> (3.54 MB)\n",
              "</pre>\n"
            ],
            "text/plain": [
              "\u001b[1m Total params: \u001b[0m\u001b[38;5;34m927,131\u001b[0m (3.54 MB)\n"
            ]
          },
          "metadata": {},
          "output_type": "display_data"
        },
        {
          "data": {
            "text/html": [
              "<pre style=\"white-space:pre;overflow-x:auto;line-height:normal;font-family:Menlo,'DejaVu Sans Mono',consolas,'Courier New',monospace\"><span style=\"font-weight: bold\"> Trainable params: </span><span style=\"color: #00af00; text-decoration-color: #00af00\">927,131</span> (3.54 MB)\n",
              "</pre>\n"
            ],
            "text/plain": [
              "\u001b[1m Trainable params: \u001b[0m\u001b[38;5;34m927,131\u001b[0m (3.54 MB)\n"
            ]
          },
          "metadata": {},
          "output_type": "display_data"
        },
        {
          "data": {
            "text/html": [
              "<pre style=\"white-space:pre;overflow-x:auto;line-height:normal;font-family:Menlo,'DejaVu Sans Mono',consolas,'Courier New',monospace\"><span style=\"font-weight: bold\"> Non-trainable params: </span><span style=\"color: #00af00; text-decoration-color: #00af00\">0</span> (0.00 B)\n",
              "</pre>\n"
            ],
            "text/plain": [
              "\u001b[1m Non-trainable params: \u001b[0m\u001b[38;5;34m0\u001b[0m (0.00 B)\n"
            ]
          },
          "metadata": {},
          "output_type": "display_data"
        }
      ],
      "source": [
        "# Build model\n",
        "# Based on: https://www.geeksforgeeks.org/python-image-classification-using-keras/\n",
        "model = models.Sequential()\n",
        "\n",
        "# Convolution filters\n",
        "model.add(layers.Conv2D(filters=4, kernel_size=(3,3), kernel_initializer='random_normal', activation='relu', padding = 'same', input_shape=sample_shape, name = 'Conv2D_layer1'))\n",
        "model.add(layers.MaxPooling2D(pool_size=(2,2), name = 'Pooling_layer1'))\n",
        "\n",
        "model.add(layers.Conv2D(filters=16, kernel_size=(3,3), kernel_initializer='random_normal', activation='relu', padding = 'same', name = 'Conv2D_layer2'))\n",
        "model.add(layers.MaxPooling2D(pool_size=(2,2), name = 'Pooling_layer2'))\n",
        "\n",
        "model.add(layers.Conv2D(filters=32, kernel_size=(3,3), kernel_initializer='random_normal', activation='relu', padding = 'same', name = 'Conv2D_layer3'))\n",
        "model.add(layers.MaxPooling2D(pool_size=(2,2), name = 'Pooling_layer3'))\n",
        "\n",
        "# Classifier\n",
        "model.add(Flatten())\n",
        "model.add(Dense(128, kernel_initializer='random_normal', activation='relu'))\n",
        "model.add(Dropout(0.5))\n",
        "model.add(Dense(32, kernel_initializer='random_normal', activation='relu'))\n",
        "model.add(Dropout(0.5))\n",
        "\n",
        "# Check Number of Classes Before Training\n",
        "model.add(Dense(3, activation='sigmoid'))\n",
        "\n",
        "# Display model\n",
        "model.layers\n",
        "model.summary()"
      ]
    },
    {
      "cell_type": "markdown",
      "metadata": {},
      "source": [
        "### Model training"
      ]
    },
    {
      "cell_type": "code",
      "execution_count": 45,
      "metadata": {
        "colab": {
          "base_uri": "https://localhost:8080/"
        },
        "collapsed": true,
        "id": "vEUlzVn1xL_l",
        "outputId": "cda845d9-ee88-4107-cc9d-99eb70b09c5a"
      },
      "outputs": [
        {
          "name": "stdout",
          "output_type": "stream",
          "text": [
            "Epoch 1/250\n",
            "\u001b[1m189/189\u001b[0m \u001b[32m━━━━━━━━━━━━━━━━━━━━\u001b[0m\u001b[37m\u001b[0m \u001b[1m9s\u001b[0m 30ms/step - accuracy: 0.3640 - loss: 0.0110 - val_accuracy: 0.3086 - val_loss: 0.0110\n",
            "Epoch 2/250\n",
            "\u001b[1m189/189\u001b[0m \u001b[32m━━━━━━━━━━━━━━━━━━━━\u001b[0m\u001b[37m\u001b[0m \u001b[1m5s\u001b[0m 28ms/step - accuracy: 0.4586 - loss: 0.0101 - val_accuracy: 0.6543 - val_loss: 0.0050\n",
            "Epoch 3/250\n",
            "\u001b[1m189/189\u001b[0m \u001b[32m━━━━━━━━━━━━━━━━━━━━\u001b[0m\u001b[37m\u001b[0m \u001b[1m6s\u001b[0m 29ms/step - accuracy: 0.6650 - loss: 0.0053 - val_accuracy: 0.6790 - val_loss: 0.0064\n",
            "Epoch 4/250\n",
            "\u001b[1m189/189\u001b[0m \u001b[32m━━━━━━━━━━━━━━━━━━━━\u001b[0m\u001b[37m\u001b[0m \u001b[1m5s\u001b[0m 26ms/step - accuracy: 0.7282 - loss: 0.0055 - val_accuracy: 0.6605 - val_loss: 0.0042\n",
            "Epoch 5/250\n",
            "\u001b[1m189/189\u001b[0m \u001b[32m━━━━━━━━━━━━━━━━━━━━\u001b[0m\u001b[37m\u001b[0m \u001b[1m6s\u001b[0m 33ms/step - accuracy: 0.7770 - loss: 0.0042 - val_accuracy: 0.9568 - val_loss: 0.0033\n",
            "Epoch 6/250\n",
            "\u001b[1m189/189\u001b[0m \u001b[32m━━━━━━━━━━━━━━━━━━━━\u001b[0m\u001b[37m\u001b[0m \u001b[1m6s\u001b[0m 33ms/step - accuracy: 0.8565 - loss: 0.0030 - val_accuracy: 0.9691 - val_loss: 0.0028\n",
            "Epoch 7/250\n",
            "\u001b[1m189/189\u001b[0m \u001b[32m━━━━━━━━━━━━━━━━━━━━\u001b[0m\u001b[37m\u001b[0m \u001b[1m6s\u001b[0m 31ms/step - accuracy: 0.8946 - loss: 0.0025 - val_accuracy: 0.9444 - val_loss: 0.0034\n",
            "Epoch 8/250\n",
            "\u001b[1m189/189\u001b[0m \u001b[32m━━━━━━━━━━━━━━━━━━━━\u001b[0m\u001b[37m\u001b[0m \u001b[1m5s\u001b[0m 26ms/step - accuracy: 0.9312 - loss: 0.0020 - val_accuracy: 0.9568 - val_loss: 0.0040\n",
            "Epoch 9/250\n",
            "\u001b[1m189/189\u001b[0m \u001b[32m━━━━━━━━━━━━━━━━━━━━\u001b[0m\u001b[37m\u001b[0m \u001b[1m5s\u001b[0m 28ms/step - accuracy: 0.8982 - loss: 0.0037 - val_accuracy: 0.9630 - val_loss: 0.0031\n",
            "Epoch 10/250\n",
            "\u001b[1m189/189\u001b[0m \u001b[32m━━━━━━━━━━━━━━━━━━━━\u001b[0m\u001b[37m\u001b[0m \u001b[1m5s\u001b[0m 24ms/step - accuracy: 0.9025 - loss: 0.0026 - val_accuracy: 0.9506 - val_loss: 0.0028\n",
            "Epoch 11/250\n",
            "\u001b[1m189/189\u001b[0m \u001b[32m━━━━━━━━━━━━━━━━━━━━\u001b[0m\u001b[37m\u001b[0m \u001b[1m5s\u001b[0m 24ms/step - accuracy: 0.9416 - loss: 0.0017 - val_accuracy: 0.9630 - val_loss: 0.0029\n",
            "Epoch 12/250\n",
            "\u001b[1m189/189\u001b[0m \u001b[32m━━━━━━━━━━━━━━━━━━━━\u001b[0m\u001b[37m\u001b[0m \u001b[1m5s\u001b[0m 24ms/step - accuracy: 0.9400 - loss: 0.0018 - val_accuracy: 0.9506 - val_loss: 0.0038\n",
            "Epoch 13/250\n",
            "\u001b[1m189/189\u001b[0m \u001b[32m━━━━━━━━━━━━━━━━━━━━\u001b[0m\u001b[37m\u001b[0m \u001b[1m5s\u001b[0m 25ms/step - accuracy: 0.9569 - loss: 0.0015 - val_accuracy: 0.9691 - val_loss: 0.0029\n",
            "Epoch 14/250\n",
            "\u001b[1m189/189\u001b[0m \u001b[32m━━━━━━━━━━━━━━━━━━━━\u001b[0m\u001b[37m\u001b[0m \u001b[1m5s\u001b[0m 26ms/step - accuracy: 0.9235 - loss: 0.0024 - val_accuracy: 0.9753 - val_loss: 0.0027\n",
            "Epoch 15/250\n",
            "\u001b[1m189/189\u001b[0m \u001b[32m━━━━━━━━━━━━━━━━━━━━\u001b[0m\u001b[37m\u001b[0m \u001b[1m5s\u001b[0m 25ms/step - accuracy: 0.9618 - loss: 0.0013 - val_accuracy: 0.9506 - val_loss: 0.0034\n",
            "Epoch 16/250\n",
            "\u001b[1m189/189\u001b[0m \u001b[32m━━━━━━━━━━━━━━━━━━━━\u001b[0m\u001b[37m\u001b[0m \u001b[1m5s\u001b[0m 25ms/step - accuracy: 0.9664 - loss: 0.0015 - val_accuracy: 0.9630 - val_loss: 0.0037\n",
            "Epoch 17/250\n",
            "\u001b[1m189/189\u001b[0m \u001b[32m━━━━━━━━━━━━━━━━━━━━\u001b[0m\u001b[37m\u001b[0m \u001b[1m5s\u001b[0m 26ms/step - accuracy: 0.9716 - loss: 8.4213e-04 - val_accuracy: 0.9753 - val_loss: 0.0047\n",
            "Epoch 18/250\n",
            "\u001b[1m189/189\u001b[0m \u001b[32m━━━━━━━━━━━━━━━━━━━━\u001b[0m\u001b[37m\u001b[0m \u001b[1m5s\u001b[0m 25ms/step - accuracy: 0.9562 - loss: 0.0013 - val_accuracy: 0.9568 - val_loss: 0.0048\n",
            "Epoch 19/250\n",
            "\u001b[1m189/189\u001b[0m \u001b[32m━━━━━━━━━━━━━━━━━━━━\u001b[0m\u001b[37m\u001b[0m \u001b[1m5s\u001b[0m 25ms/step - accuracy: 0.9700 - loss: 0.0011 - val_accuracy: 0.9815 - val_loss: 0.0052\n",
            "Epoch 20/250\n",
            "\u001b[1m189/189\u001b[0m \u001b[32m━━━━━━━━━━━━━━━━━━━━\u001b[0m\u001b[37m\u001b[0m \u001b[1m5s\u001b[0m 26ms/step - accuracy: 0.9696 - loss: 9.0106e-04 - val_accuracy: 0.9815 - val_loss: 0.0055\n",
            "Epoch 21/250\n",
            "\u001b[1m189/189\u001b[0m \u001b[32m━━━━━━━━━━━━━━━━━━━━\u001b[0m\u001b[37m\u001b[0m \u001b[1m5s\u001b[0m 26ms/step - accuracy: 0.9422 - loss: 0.0019 - val_accuracy: 0.9815 - val_loss: 0.0036\n",
            "Epoch 22/250\n",
            "\u001b[1m189/189\u001b[0m \u001b[32m━━━━━━━━━━━━━━━━━━━━\u001b[0m\u001b[37m\u001b[0m \u001b[1m5s\u001b[0m 29ms/step - accuracy: 0.9611 - loss: 0.0012 - val_accuracy: 0.9815 - val_loss: 0.0024\n",
            "Epoch 23/250\n",
            "\u001b[1m189/189\u001b[0m \u001b[32m━━━━━━━━━━━━━━━━━━━━\u001b[0m\u001b[37m\u001b[0m \u001b[1m5s\u001b[0m 27ms/step - accuracy: 0.9749 - loss: 5.8216e-04 - val_accuracy: 0.9753 - val_loss: 0.0040\n",
            "Epoch 24/250\n",
            "\u001b[1m189/189\u001b[0m \u001b[32m━━━━━━━━━━━━━━━━━━━━\u001b[0m\u001b[37m\u001b[0m \u001b[1m5s\u001b[0m 27ms/step - accuracy: 0.9748 - loss: 0.0011 - val_accuracy: 0.9877 - val_loss: 0.0047\n",
            "Epoch 25/250\n",
            "\u001b[1m189/189\u001b[0m \u001b[32m━━━━━━━━━━━━━━━━━━━━\u001b[0m\u001b[37m\u001b[0m \u001b[1m5s\u001b[0m 28ms/step - accuracy: 0.9815 - loss: 5.7758e-04 - val_accuracy: 0.9630 - val_loss: 0.0038\n",
            "Epoch 26/250\n",
            "\u001b[1m189/189\u001b[0m \u001b[32m━━━━━━━━━━━━━━━━━━━━\u001b[0m\u001b[37m\u001b[0m \u001b[1m6s\u001b[0m 33ms/step - accuracy: 0.9534 - loss: 0.0016 - val_accuracy: 0.9568 - val_loss: 0.0053\n",
            "Epoch 27/250\n",
            "\u001b[1m189/189\u001b[0m \u001b[32m━━━━━━━━━━━━━━━━━━━━\u001b[0m\u001b[37m\u001b[0m \u001b[1m5s\u001b[0m 27ms/step - accuracy: 0.9699 - loss: 0.0015 - val_accuracy: 0.9815 - val_loss: 0.0037\n",
            "Epoch 28/250\n",
            "\u001b[1m189/189\u001b[0m \u001b[32m━━━━━━━━━━━━━━━━━━━━\u001b[0m\u001b[37m\u001b[0m \u001b[1m8s\u001b[0m 43ms/step - accuracy: 0.9787 - loss: 6.2813e-04 - val_accuracy: 0.9568 - val_loss: 0.0054\n",
            "Epoch 29/250\n",
            "\u001b[1m189/189\u001b[0m \u001b[32m━━━━━━━━━━━━━━━━━━━━\u001b[0m\u001b[37m\u001b[0m \u001b[1m12s\u001b[0m 64ms/step - accuracy: 0.9614 - loss: 0.0015 - val_accuracy: 0.9938 - val_loss: 0.0046\n",
            "Epoch 30/250\n",
            "\u001b[1m189/189\u001b[0m \u001b[32m━━━━━━━━━━━━━━━━━━━━\u001b[0m\u001b[37m\u001b[0m \u001b[1m7s\u001b[0m 39ms/step - accuracy: 0.9934 - loss: 4.1862e-04 - val_accuracy: 0.9877 - val_loss: 3.0426e-04\n",
            "Epoch 31/250\n",
            "\u001b[1m189/189\u001b[0m \u001b[32m━━━━━━━━━━━━━━━━━━━━\u001b[0m\u001b[37m\u001b[0m \u001b[1m8s\u001b[0m 39ms/step - accuracy: 0.9638 - loss: 0.0014 - val_accuracy: 0.9938 - val_loss: 0.0035\n",
            "Epoch 32/250\n",
            "\u001b[1m189/189\u001b[0m \u001b[32m━━━━━━━━━━━━━━━━━━━━\u001b[0m\u001b[37m\u001b[0m \u001b[1m9s\u001b[0m 48ms/step - accuracy: 0.9920 - loss: 5.1011e-04 - val_accuracy: 0.9815 - val_loss: 0.0043\n",
            "Epoch 33/250\n",
            "\u001b[1m189/189\u001b[0m \u001b[32m━━━━━━━━━━━━━━━━━━━━\u001b[0m\u001b[37m\u001b[0m \u001b[1m7s\u001b[0m 38ms/step - accuracy: 0.9734 - loss: 6.2366e-04 - val_accuracy: 0.9753 - val_loss: 0.0041\n",
            "Epoch 34/250\n",
            "\u001b[1m189/189\u001b[0m \u001b[32m━━━━━━━━━━━━━━━━━━━━\u001b[0m\u001b[37m\u001b[0m \u001b[1m7s\u001b[0m 36ms/step - accuracy: 0.9897 - loss: 3.6855e-04 - val_accuracy: 0.9938 - val_loss: 0.0044\n",
            "Epoch 35/250\n",
            "\u001b[1m189/189\u001b[0m \u001b[32m━━━━━━━━━━━━━━━━━━━━\u001b[0m\u001b[37m\u001b[0m \u001b[1m5s\u001b[0m 29ms/step - accuracy: 0.9777 - loss: 7.9629e-04 - val_accuracy: 0.9753 - val_loss: 0.0056\n",
            "Epoch 36/250\n",
            "\u001b[1m189/189\u001b[0m \u001b[32m━━━━━━━━━━━━━━━━━━━━\u001b[0m\u001b[37m\u001b[0m \u001b[1m6s\u001b[0m 33ms/step - accuracy: 0.9791 - loss: 5.9253e-04 - val_accuracy: 0.9938 - val_loss: 0.0051\n",
            "Epoch 37/250\n",
            "\u001b[1m189/189\u001b[0m \u001b[32m━━━━━━━━━━━━━━━━━━━━\u001b[0m\u001b[37m\u001b[0m \u001b[1m6s\u001b[0m 29ms/step - accuracy: 0.9849 - loss: 4.4034e-04 - val_accuracy: 0.9630 - val_loss: 0.0042\n",
            "Epoch 38/250\n",
            "\u001b[1m189/189\u001b[0m \u001b[32m━━━━━━━━━━━━━━━━━━━━\u001b[0m\u001b[37m\u001b[0m \u001b[1m5s\u001b[0m 26ms/step - accuracy: 0.9709 - loss: 0.0012 - val_accuracy: 0.9815 - val_loss: 0.0051\n",
            "Epoch 39/250\n",
            "\u001b[1m189/189\u001b[0m \u001b[32m━━━━━━━━━━━━━━━━━━━━\u001b[0m\u001b[37m\u001b[0m \u001b[1m5s\u001b[0m 25ms/step - accuracy: 0.9817 - loss: 4.1676e-04 - val_accuracy: 0.9938 - val_loss: 0.0047\n",
            "Epoch 40/250\n",
            "\u001b[1m189/189\u001b[0m \u001b[32m━━━━━━━━━━━━━━━━━━━━\u001b[0m\u001b[37m\u001b[0m \u001b[1m5s\u001b[0m 26ms/step - accuracy: 0.9939 - loss: 2.4493e-04 - val_accuracy: 0.9938 - val_loss: 0.0035\n",
            "Epoch 41/250\n",
            "\u001b[1m189/189\u001b[0m \u001b[32m━━━━━━━━━━━━━━━━━━━━\u001b[0m\u001b[37m\u001b[0m \u001b[1m5s\u001b[0m 25ms/step - accuracy: 0.9778 - loss: 6.5902e-04 - val_accuracy: 0.9877 - val_loss: 0.0039\n",
            "Epoch 42/250\n",
            "\u001b[1m189/189\u001b[0m \u001b[32m━━━━━━━━━━━━━━━━━━━━\u001b[0m\u001b[37m\u001b[0m \u001b[1m5s\u001b[0m 26ms/step - accuracy: 0.9954 - loss: 2.2034e-04 - val_accuracy: 0.9938 - val_loss: 0.0061\n",
            "Epoch 43/250\n",
            "\u001b[1m189/189\u001b[0m \u001b[32m━━━━━━━━━━━━━━━━━━━━\u001b[0m\u001b[37m\u001b[0m \u001b[1m5s\u001b[0m 26ms/step - accuracy: 0.9683 - loss: 7.3804e-04 - val_accuracy: 0.9938 - val_loss: 0.0054\n",
            "Epoch 44/250\n",
            "\u001b[1m189/189\u001b[0m \u001b[32m━━━━━━━━━━━━━━━━━━━━\u001b[0m\u001b[37m\u001b[0m \u001b[1m5s\u001b[0m 27ms/step - accuracy: 0.9774 - loss: 0.0011 - val_accuracy: 0.9938 - val_loss: 0.0033\n",
            "Epoch 45/250\n",
            "\u001b[1m189/189\u001b[0m \u001b[32m━━━━━━━━━━━━━━━━━━━━\u001b[0m\u001b[37m\u001b[0m \u001b[1m5s\u001b[0m 26ms/step - accuracy: 0.9945 - loss: 2.8592e-04 - val_accuracy: 0.9938 - val_loss: 0.0027\n",
            "Epoch 46/250\n",
            "\u001b[1m189/189\u001b[0m \u001b[32m━━━━━━━━━━━━━━━━━━━━\u001b[0m\u001b[37m\u001b[0m \u001b[1m5s\u001b[0m 26ms/step - accuracy: 0.9976 - loss: 1.1363e-04 - val_accuracy: 0.9815 - val_loss: 0.0027\n",
            "Epoch 47/250\n",
            "\u001b[1m189/189\u001b[0m \u001b[32m━━━━━━━━━━━━━━━━━━━━\u001b[0m\u001b[37m\u001b[0m \u001b[1m5s\u001b[0m 25ms/step - accuracy: 0.9955 - loss: 1.7460e-04 - val_accuracy: 0.9938 - val_loss: 0.0031\n",
            "Epoch 48/250\n",
            "\u001b[1m189/189\u001b[0m \u001b[32m━━━━━━━━━━━━━━━━━━━━\u001b[0m\u001b[37m\u001b[0m \u001b[1m5s\u001b[0m 26ms/step - accuracy: 0.9866 - loss: 4.5702e-04 - val_accuracy: 0.9938 - val_loss: 0.0030\n",
            "Epoch 49/250\n",
            "\u001b[1m189/189\u001b[0m \u001b[32m━━━━━━━━━━━━━━━━━━━━\u001b[0m\u001b[37m\u001b[0m \u001b[1m5s\u001b[0m 29ms/step - accuracy: 0.9913 - loss: 3.1289e-04 - val_accuracy: 0.9938 - val_loss: 0.0029\n",
            "Epoch 50/250\n",
            "\u001b[1m189/189\u001b[0m \u001b[32m━━━━━━━━━━━━━━━━━━━━\u001b[0m\u001b[37m\u001b[0m \u001b[1m5s\u001b[0m 28ms/step - accuracy: 1.0000 - loss: 1.0007e-04 - val_accuracy: 0.9938 - val_loss: 0.0038\n",
            "Epoch 51/250\n",
            "\u001b[1m189/189\u001b[0m \u001b[32m━━━━━━━━━━━━━━━━━━━━\u001b[0m\u001b[37m\u001b[0m \u001b[1m8s\u001b[0m 42ms/step - accuracy: 0.9998 - loss: 9.2977e-05 - val_accuracy: 0.9938 - val_loss: 0.0045\n",
            "Epoch 52/250\n",
            "\u001b[1m189/189\u001b[0m \u001b[32m━━━━━━━━━━━━━━━━━━━━\u001b[0m\u001b[37m\u001b[0m \u001b[1m6s\u001b[0m 32ms/step - accuracy: 0.9845 - loss: 5.0251e-04 - val_accuracy: 1.0000 - val_loss: 1.6443e-04\n",
            "Epoch 53/250\n",
            "\u001b[1m189/189\u001b[0m \u001b[32m━━━━━━━━━━━━━━━━━━━━\u001b[0m\u001b[37m\u001b[0m \u001b[1m5s\u001b[0m 28ms/step - accuracy: 0.9893 - loss: 3.0233e-04 - val_accuracy: 0.9877 - val_loss: 0.0025\n",
            "Epoch 54/250\n",
            "\u001b[1m189/189\u001b[0m \u001b[32m━━━━━━━━━━━━━━━━━━━━\u001b[0m\u001b[37m\u001b[0m \u001b[1m5s\u001b[0m 26ms/step - accuracy: 0.9989 - loss: 1.1848e-04 - val_accuracy: 0.9938 - val_loss: 0.0030\n",
            "Epoch 55/250\n",
            "\u001b[1m189/189\u001b[0m \u001b[32m━━━━━━━━━━━━━━━━━━━━\u001b[0m\u001b[37m\u001b[0m \u001b[1m5s\u001b[0m 25ms/step - accuracy: 0.9944 - loss: 2.0269e-04 - val_accuracy: 0.9938 - val_loss: 0.0049\n",
            "Epoch 56/250\n",
            "\u001b[1m189/189\u001b[0m \u001b[32m━━━━━━━━━━━━━━━━━━━━\u001b[0m\u001b[37m\u001b[0m \u001b[1m5s\u001b[0m 25ms/step - accuracy: 0.9975 - loss: 1.2773e-04 - val_accuracy: 0.9938 - val_loss: 0.0045\n",
            "Epoch 57/250\n",
            "\u001b[1m189/189\u001b[0m \u001b[32m━━━━━━━━━━━━━━━━━━━━\u001b[0m\u001b[37m\u001b[0m \u001b[1m5s\u001b[0m 25ms/step - accuracy: 0.9984 - loss: 1.2063e-04 - val_accuracy: 0.9815 - val_loss: 0.0045\n",
            "Epoch 58/250\n",
            "\u001b[1m189/189\u001b[0m \u001b[32m━━━━━━━━━━━━━━━━━━━━\u001b[0m\u001b[37m\u001b[0m \u001b[1m6s\u001b[0m 34ms/step - accuracy: 0.9978 - loss: 1.4413e-04 - val_accuracy: 0.9815 - val_loss: 0.0028\n",
            "Epoch 59/250\n",
            "\u001b[1m189/189\u001b[0m \u001b[32m━━━━━━━━━━━━━━━━━━━━\u001b[0m\u001b[37m\u001b[0m \u001b[1m9s\u001b[0m 45ms/step - accuracy: 1.0000 - loss: 6.6952e-05 - val_accuracy: 0.9938 - val_loss: 0.0050\n",
            "Epoch 60/250\n",
            "\u001b[1m189/189\u001b[0m \u001b[32m━━━━━━━━━━━━━━━━━━━━\u001b[0m\u001b[37m\u001b[0m \u001b[1m8s\u001b[0m 40ms/step - accuracy: 0.9976 - loss: 1.0304e-04 - val_accuracy: 0.9938 - val_loss: 0.0070\n",
            "Epoch 61/250\n",
            "\u001b[1m189/189\u001b[0m \u001b[32m━━━━━━━━━━━━━━━━━━━━\u001b[0m\u001b[37m\u001b[0m \u001b[1m8s\u001b[0m 39ms/step - accuracy: 0.9946 - loss: 1.2181e-04 - val_accuracy: 0.9877 - val_loss: 0.0065\n",
            "Epoch 62/250\n",
            "\u001b[1m189/189\u001b[0m \u001b[32m━━━━━━━━━━━━━━━━━━━━\u001b[0m\u001b[37m\u001b[0m \u001b[1m7s\u001b[0m 38ms/step - accuracy: 0.9449 - loss: 0.0019 - val_accuracy: 0.9938 - val_loss: 0.0027\n",
            "Epoch 63/250\n",
            "\u001b[1m189/189\u001b[0m \u001b[32m━━━━━━━━━━━━━━━━━━━━\u001b[0m\u001b[37m\u001b[0m \u001b[1m8s\u001b[0m 41ms/step - accuracy: 0.9956 - loss: 1.5956e-04 - val_accuracy: 0.9938 - val_loss: 0.0056\n",
            "Epoch 64/250\n",
            "\u001b[1m189/189\u001b[0m \u001b[32m━━━━━━━━━━━━━━━━━━━━\u001b[0m\u001b[37m\u001b[0m \u001b[1m6s\u001b[0m 30ms/step - accuracy: 0.9900 - loss: 3.9218e-04 - val_accuracy: 0.9938 - val_loss: 0.0053\n",
            "Epoch 65/250\n",
            "\u001b[1m189/189\u001b[0m \u001b[32m━━━━━━━━━━━━━━━━━━━━\u001b[0m\u001b[37m\u001b[0m \u001b[1m5s\u001b[0m 28ms/step - accuracy: 0.9977 - loss: 1.1654e-04 - val_accuracy: 0.9938 - val_loss: 0.0051\n",
            "Epoch 66/250\n",
            "\u001b[1m189/189\u001b[0m \u001b[32m━━━━━━━━━━━━━━━━━━━━\u001b[0m\u001b[37m\u001b[0m \u001b[1m5s\u001b[0m 26ms/step - accuracy: 0.9993 - loss: 8.8981e-05 - val_accuracy: 0.9938 - val_loss: 0.0062\n",
            "Epoch 67/250\n",
            "\u001b[1m189/189\u001b[0m \u001b[32m━━━━━━━━━━━━━━━━━━━━\u001b[0m\u001b[37m\u001b[0m \u001b[1m5s\u001b[0m 26ms/step - accuracy: 0.9971 - loss: 1.1613e-04 - val_accuracy: 0.9938 - val_loss: 0.0060\n",
            "Epoch 68/250\n",
            "\u001b[1m189/189\u001b[0m \u001b[32m━━━━━━━━━━━━━━━━━━━━\u001b[0m\u001b[37m\u001b[0m \u001b[1m5s\u001b[0m 26ms/step - accuracy: 0.9972 - loss: 7.8811e-05 - val_accuracy: 0.9938 - val_loss: 0.0067\n",
            "Epoch 69/250\n",
            "\u001b[1m189/189\u001b[0m \u001b[32m━━━━━━━━━━━━━━━━━━━━\u001b[0m\u001b[37m\u001b[0m \u001b[1m5s\u001b[0m 26ms/step - accuracy: 1.0000 - loss: 3.5448e-05 - val_accuracy: 0.9938 - val_loss: 0.0060\n",
            "Epoch 70/250\n",
            "\u001b[1m189/189\u001b[0m \u001b[32m━━━━━━━━━━━━━━━━━━━━\u001b[0m\u001b[37m\u001b[0m \u001b[1m5s\u001b[0m 26ms/step - accuracy: 0.9997 - loss: 4.9414e-05 - val_accuracy: 0.9938 - val_loss: 0.0071\n",
            "Epoch 71/250\n",
            "\u001b[1m189/189\u001b[0m \u001b[32m━━━━━━━━━━━━━━━━━━━━\u001b[0m\u001b[37m\u001b[0m \u001b[1m6s\u001b[0m 30ms/step - accuracy: 1.0000 - loss: 2.0643e-05 - val_accuracy: 0.9938 - val_loss: 0.0068\n",
            "Epoch 72/250\n",
            "\u001b[1m189/189\u001b[0m \u001b[32m━━━━━━━━━━━━━━━━━━━━\u001b[0m\u001b[37m\u001b[0m \u001b[1m5s\u001b[0m 27ms/step - accuracy: 0.9995 - loss: 3.8137e-05 - val_accuracy: 0.9938 - val_loss: 0.0066\n",
            "Epoch 73/250\n",
            "\u001b[1m189/189\u001b[0m \u001b[32m━━━━━━━━━━━━━━━━━━━━\u001b[0m\u001b[37m\u001b[0m \u001b[1m5s\u001b[0m 28ms/step - accuracy: 0.9903 - loss: 3.4102e-04 - val_accuracy: 0.9877 - val_loss: 0.0055\n",
            "Epoch 74/250\n",
            "\u001b[1m189/189\u001b[0m \u001b[32m━━━━━━━━━━━━━━━━━━━━\u001b[0m\u001b[37m\u001b[0m \u001b[1m5s\u001b[0m 26ms/step - accuracy: 0.9950 - loss: 2.0949e-04 - val_accuracy: 0.9938 - val_loss: 0.0049\n",
            "Epoch 75/250\n",
            "\u001b[1m189/189\u001b[0m \u001b[32m━━━━━━━━━━━━━━━━━━━━\u001b[0m\u001b[37m\u001b[0m \u001b[1m5s\u001b[0m 26ms/step - accuracy: 0.9947 - loss: 2.0990e-04 - val_accuracy: 0.9938 - val_loss: 0.0038\n",
            "Epoch 76/250\n",
            "\u001b[1m189/189\u001b[0m \u001b[32m━━━━━━━━━━━━━━━━━━━━\u001b[0m\u001b[37m\u001b[0m \u001b[1m6s\u001b[0m 31ms/step - accuracy: 0.9953 - loss: 7.7211e-05 - val_accuracy: 0.9938 - val_loss: 0.0026\n",
            "Epoch 77/250\n",
            "\u001b[1m189/189\u001b[0m \u001b[32m━━━━━━━━━━━━━━━━━━━━\u001b[0m\u001b[37m\u001b[0m \u001b[1m5s\u001b[0m 26ms/step - accuracy: 0.9974 - loss: 1.1736e-04 - val_accuracy: 0.9938 - val_loss: 0.0050\n",
            "Epoch 78/250\n",
            "\u001b[1m189/189\u001b[0m \u001b[32m━━━━━━━━━━━━━━━━━━━━\u001b[0m\u001b[37m\u001b[0m \u001b[1m5s\u001b[0m 25ms/step - accuracy: 0.9929 - loss: 2.2840e-04 - val_accuracy: 0.9938 - val_loss: 0.0049\n",
            "Epoch 79/250\n",
            "\u001b[1m189/189\u001b[0m \u001b[32m━━━━━━━━━━━━━━━━━━━━\u001b[0m\u001b[37m\u001b[0m \u001b[1m5s\u001b[0m 24ms/step - accuracy: 0.9929 - loss: 3.2076e-04 - val_accuracy: 0.9938 - val_loss: 0.0055\n",
            "Epoch 80/250\n",
            "\u001b[1m189/189\u001b[0m \u001b[32m━━━━━━━━━━━━━━━━━━━━\u001b[0m\u001b[37m\u001b[0m \u001b[1m5s\u001b[0m 24ms/step - accuracy: 0.9995 - loss: 7.0913e-05 - val_accuracy: 0.9938 - val_loss: 0.0054\n",
            "Epoch 81/250\n",
            "\u001b[1m189/189\u001b[0m \u001b[32m━━━━━━━━━━━━━━━━━━━━\u001b[0m\u001b[37m\u001b[0m \u001b[1m5s\u001b[0m 25ms/step - accuracy: 1.0000 - loss: 4.7804e-05 - val_accuracy: 0.9938 - val_loss: 0.0055\n",
            "Epoch 82/250\n",
            "\u001b[1m189/189\u001b[0m \u001b[32m━━━━━━━━━━━━━━━━━━━━\u001b[0m\u001b[37m\u001b[0m \u001b[1m5s\u001b[0m 26ms/step - accuracy: 1.0000 - loss: 4.2002e-05 - val_accuracy: 0.9938 - val_loss: 0.0034\n",
            "Epoch 83/250\n",
            "\u001b[1m189/189\u001b[0m \u001b[32m━━━━━━━━━━━━━━━━━━━━\u001b[0m\u001b[37m\u001b[0m \u001b[1m5s\u001b[0m 25ms/step - accuracy: 0.9997 - loss: 2.8878e-05 - val_accuracy: 0.9938 - val_loss: 0.0039\n",
            "Epoch 84/250\n",
            "\u001b[1m189/189\u001b[0m \u001b[32m━━━━━━━━━━━━━━━━━━━━\u001b[0m\u001b[37m\u001b[0m \u001b[1m5s\u001b[0m 29ms/step - accuracy: 1.0000 - loss: 1.8946e-05 - val_accuracy: 0.9938 - val_loss: 0.0046\n",
            "Epoch 85/250\n",
            "\u001b[1m189/189\u001b[0m \u001b[32m━━━━━━━━━━━━━━━━━━━━\u001b[0m\u001b[37m\u001b[0m \u001b[1m5s\u001b[0m 29ms/step - accuracy: 1.0000 - loss: 1.8429e-05 - val_accuracy: 0.9938 - val_loss: 0.0033\n",
            "Epoch 86/250\n",
            "\u001b[1m189/189\u001b[0m \u001b[32m━━━━━━━━━━━━━━━━━━━━\u001b[0m\u001b[37m\u001b[0m \u001b[1m5s\u001b[0m 29ms/step - accuracy: 0.9942 - loss: 1.3580e-04 - val_accuracy: 0.9938 - val_loss: 0.0041\n",
            "Epoch 87/250\n",
            "\u001b[1m189/189\u001b[0m \u001b[32m━━━━━━━━━━━━━━━━━━━━\u001b[0m\u001b[37m\u001b[0m \u001b[1m5s\u001b[0m 27ms/step - accuracy: 0.9957 - loss: 1.0615e-04 - val_accuracy: 0.9938 - val_loss: 0.0069\n",
            "Epoch 88/250\n",
            "\u001b[1m189/189\u001b[0m \u001b[32m━━━━━━━━━━━━━━━━━━━━\u001b[0m\u001b[37m\u001b[0m \u001b[1m5s\u001b[0m 27ms/step - accuracy: 1.0000 - loss: 2.9253e-05 - val_accuracy: 0.9938 - val_loss: 0.0055\n",
            "Epoch 89/250\n",
            "\u001b[1m189/189\u001b[0m \u001b[32m━━━━━━━━━━━━━━━━━━━━\u001b[0m\u001b[37m\u001b[0m \u001b[1m5s\u001b[0m 25ms/step - accuracy: 0.9950 - loss: 8.3596e-05 - val_accuracy: 0.9938 - val_loss: 0.0062\n",
            "Epoch 90/250\n",
            "\u001b[1m189/189\u001b[0m \u001b[32m━━━━━━━━━━━━━━━━━━━━\u001b[0m\u001b[37m\u001b[0m \u001b[1m5s\u001b[0m 26ms/step - accuracy: 1.0000 - loss: 8.0727e-06 - val_accuracy: 0.9938 - val_loss: 0.0061\n",
            "Epoch 91/250\n",
            "\u001b[1m189/189\u001b[0m \u001b[32m━━━━━━━━━━━━━━━━━━━━\u001b[0m\u001b[37m\u001b[0m \u001b[1m5s\u001b[0m 25ms/step - accuracy: 0.9995 - loss: 5.1175e-05 - val_accuracy: 0.9938 - val_loss: 0.0052\n",
            "Epoch 92/250\n",
            "\u001b[1m189/189\u001b[0m \u001b[32m━━━━━━━━━━━━━━━━━━━━\u001b[0m\u001b[37m\u001b[0m \u001b[1m5s\u001b[0m 26ms/step - accuracy: 0.9973 - loss: 1.4848e-04 - val_accuracy: 0.9938 - val_loss: 0.0053\n",
            "Epoch 92: early stopping\n",
            "Restoring model weights from the end of the best epoch: 52.\n"
          ]
        }
      ],
      "source": [
        "# PatientEearly Stopping\n",
        "es = EarlyStopping(monitor='val_loss', mode='min', verbose=1, patience=40, restore_best_weights=True)\n",
        "\n",
        "# Add training parameters to model\n",
        "model.compile(loss='sparse_categorical_crossentropy',\n",
        "             optimizer=keras.optimizers.Adam(learning_rate=0.001), #SGD, RMSProp, Adam, nadam\n",
        "             loss_weights=0.01,\n",
        "             metrics=['accuracy'])\n",
        "\n",
        "# Train\n",
        "history = model.fit(x_train,\n",
        "                   y_train,\n",
        "                   epochs=250,\n",
        "                   batch_size=4,\n",
        "                   validation_data=(x_val,y_val),\n",
        "                   callbacks=[es])"
      ]
    },
    {
      "cell_type": "markdown",
      "metadata": {},
      "source": [
        "### Plotting results"
      ]
    },
    {
      "cell_type": "code",
      "execution_count": 46,
      "metadata": {
        "colab": {
          "base_uri": "https://localhost:8080/",
          "height": 887
        },
        "id": "MdhXQlvkxL_l",
        "outputId": "71d7cde8-6156-49a0-981e-4601d6cb9cd5"
      },
      "outputs": [
        {
          "data": {
            "image/png": "[encoded data removed]",
            "text/plain": [
              "<Figure size 640x480 with 1 Axes>"
            ]
          },
          "metadata": {},
          "output_type": "display_data"
        },
        {
          "data": {
            "image/png": "[encoded data removed]",
            "text/plain": [
              "<Figure size 640x480 with 1 Axes>"
            ]
          },
          "metadata": {},
          "output_type": "display_data"
        }
      ],
      "source": [
        "# Plot results\n",
        "import matplotlib.pyplot as plt\n",
        "\n",
        "acc = history.history['accuracy']\n",
        "val_acc = history.history['val_accuracy']\n",
        "loss = history.history['loss']\n",
        "val_loss = history.history['val_loss']\n",
        "#recall = history.history['recall_1']\n",
        "#val_recall = history.history['val_recall_1']\n",
        "#precision = history.history['precision']\n",
        "#val_precision = history.history['val_precision']\n",
        "\n",
        "\n",
        "epochs = range(1, len(acc) + 1)\n",
        "\n",
        "# Plot the training and validation accuracy\n",
        "plt.plot(epochs, acc, 'g', label='Training acc')\n",
        "plt.plot(epochs, val_acc, 'b', label='Validation acc')\n",
        "plt.title('Training and validation accuracy')\n",
        "plt.legend()\n",
        "\n",
        "plt.figure()\n",
        "\n",
        "# Plot the training and validation loss\n",
        "plt.plot(epochs, loss, 'g', label='Training loss')\n",
        "plt.plot(epochs, val_loss, 'b', label='Validation loss')\n",
        "plt.title('Training and validation loss')\n",
        "plt.legend()\n",
        "\n",
        "plt.show()"
      ]
    },
    {
      "cell_type": "code",
      "execution_count": 47,
      "metadata": {
        "colab": {
          "base_uri": "https://localhost:8080/"
        },
        "id": "z0vQeRxVxL_l",
        "outputId": "41767039-2953-414d-bcc5-94fad24a5af8"
      },
      "outputs": [
        {
          "name": "stdout",
          "output_type": "stream",
          "text": [
            "6/6 - 0s - 39ms/step - accuracy: 0.9938 - loss: 2.5440e-04\n"
          ]
        }
      ],
      "source": [
        "# Model evaluation on test set\n",
        "test_loss, test_acc = model.evaluate(x_test, y_test, verbose=2)"
      ]
    },
    {
      "cell_type": "code",
      "execution_count": 48,
      "metadata": {
        "colab": {
          "base_uri": "https://localhost:8080/"
        },
        "id": "ZUDI6ZwtxL_m",
        "outputId": "a27983c2-4450-41ad-bd89-bde305c51745"
      },
      "outputs": [
        {
          "name": "stderr",
          "output_type": "stream",
          "text": [
            "WARNING:absl:You are saving your model as an HDF5 file via `model.save()` or `keras.saving.save_model(model)`. This file format is considered legacy. We recommend using instead the native Keras format, e.g. `model.save('my_model.keras')` or `keras.saving.save_model(model, 'my_model.keras')`. \n"
          ]
        },
        {
          "name": "stdout",
          "output_type": "stream",
          "text": [
            "saved model path : c:\\Users\\Iman\\Desktop\\Stage\\code\\cross_feature/all_targets_cross_1080.h5\n"
          ]
        }
      ],
      "source": [
        "# Save the model as a file\n",
        "models.save_model(model, work_dir + '\\\\' + model_filename)\n",
        "\n",
        "print('saved model path :',work_dir + '/' + model_filename)"
      ]
    },
    {
      "cell_type": "code",
      "execution_count": 49,
      "metadata": {},
      "outputs": [
        {
          "name": "stdout",
          "output_type": "stream",
          "text": [
            "\u001b[1m6/6\u001b[0m \u001b[32m━━━━━━━━━━━━━━━━━━━━\u001b[0m\u001b[37m\u001b[0m \u001b[1m1s\u001b[0m 108ms/step\n",
            "[[6.04653749e-08 4.75127512e-14 1.00000000e+00]\n",
            " [8.18497268e-04 3.66960165e-07 9.99595940e-01]\n",
            " [9.03227031e-01 2.76975743e-02 2.37169608e-01]\n",
            " [9.11749601e-01 2.53001191e-02 2.24017575e-01]\n",
            " [8.54954004e-01 2.37297583e-02 3.10846925e-01]\n",
            " [1.54415165e-08 5.87488881e-15 1.00000000e+00]\n",
            " [8.89847577e-01 2.71208510e-02 2.59365469e-01]\n",
            " [3.07526477e-10 1.00000000e+00 5.34893125e-08]\n",
            " [9.28069949e-01 2.03925464e-02 1.96099430e-01]\n",
            " [8.27929676e-01 1.93357915e-02 3.54970574e-01]\n",
            " [8.98585200e-01 2.89920773e-02 2.44328961e-01]\n",
            " [8.98036599e-01 2.89884135e-02 2.45223463e-01]\n",
            " [1.45135156e-04 2.58182755e-08 9.99926329e-01]\n",
            " [5.07484600e-02 2.88418843e-04 9.72857594e-01]\n",
            " [6.37221954e-15 1.00000000e+00 3.68713532e-11]\n",
            " [2.11013464e-19 1.00000000e+00 1.11450088e-14]\n",
            " [5.56926365e-14 1.00000000e+00 8.64061184e-11]\n",
            " [9.22681153e-01 2.20164787e-02 2.05881804e-01]\n",
            " [8.98574114e-01 2.90010348e-02 2.44268209e-01]\n",
            " [1.67253495e-06 7.43110087e-12 9.99999344e-01]\n",
            " [4.31175067e-06 1.39208894e-10 9.99997854e-01]\n",
            " [1.92638181e-05 3.28789810e-07 9.99968588e-01]\n",
            " [8.98826599e-01 2.60573793e-02 2.44719818e-01]\n",
            " [3.71716913e-21 1.77576651e-34 1.00000000e+00]\n",
            " [9.14963007e-01 2.42086127e-02 2.18470588e-01]\n",
            " [8.54118824e-01 2.24861614e-02 3.12195897e-01]\n",
            " [9.02968287e-01 2.77651753e-02 2.37633109e-01]\n",
            " [1.83214359e-02 4.91249266e-05 9.90691960e-01]\n",
            " [3.98980951e-30 1.00000000e+00 1.53666659e-22]\n",
            " [9.08000290e-01 2.63715200e-02 2.29619086e-01]\n",
            " [9.01634097e-01 2.81577092e-02 2.39424795e-01]\n",
            " [8.95666838e-01 3.04533970e-02 2.43686438e-01]\n",
            " [3.96143109e-24 1.00000000e+00 4.53965199e-18]\n",
            " [8.39373749e-03 1.38966952e-05 9.95734751e-01]\n",
            " [1.81746699e-28 1.00000000e+00 2.97282492e-21]\n",
            " [2.90413249e-09 1.00000000e+00 2.41031842e-07]\n",
            " [1.01327701e-02 1.99712176e-05 9.94859219e-01]\n",
            " [9.01210070e-01 2.83829421e-02 2.39270687e-01]\n",
            " [8.98554683e-01 2.90167686e-02 2.44161546e-01]\n",
            " [3.93590266e-30 1.00000000e+00 1.73061618e-22]\n",
            " [1.94084182e-01 3.27126868e-03 8.80564690e-01]\n",
            " [9.15980756e-01 2.40124613e-02 2.16814205e-01]\n",
            " [4.84124730e-13 1.00000000e+00 3.73853504e-10]\n",
            " [5.39720977e-16 1.00000000e+00 2.69106894e-12]\n",
            " [4.03724730e-19 1.00000000e+00 2.07009211e-14]\n",
            " [9.05442119e-01 2.70598792e-02 2.33988479e-01]\n",
            " [5.11408000e-20 1.00000000e+00 4.89283796e-15]\n",
            " [8.88184190e-01 3.13870944e-02 2.49141231e-01]\n",
            " [1.55935841e-16 1.00000000e+00 1.53417296e-12]\n",
            " [1.42199061e-24 1.00000000e+00 2.13851417e-18]\n",
            " [5.39838219e-09 1.00000000e+00 4.03488741e-07]\n",
            " [9.22555685e-01 2.20536646e-02 2.06089869e-01]\n",
            " [8.98527622e-01 2.90386695e-02 2.44013220e-01]\n",
            " [8.94764423e-01 2.89722737e-02 2.49773726e-01]\n",
            " [8.07501674e-01 1.88726801e-02 3.81374747e-01]\n",
            " [1.21412842e-16 1.00000000e+00 3.00140533e-12]\n",
            " [4.84183780e-04 1.53706617e-06 9.99625802e-01]\n",
            " [9.01484668e-01 2.81973518e-02 2.39683107e-01]\n",
            " [9.15369630e-01 2.41961461e-02 2.17805684e-01]\n",
            " [3.80621918e-06 1.37717546e-10 9.99998033e-01]\n",
            " [2.02869812e-14 1.60831210e-23 1.00000000e+00]\n",
            " [9.15972829e-01 2.40010750e-02 2.16555908e-01]\n",
            " [3.26817219e-11 1.00000000e+00 7.02296576e-09]\n",
            " [2.42871099e-13 1.00000000e+00 2.19434929e-10]\n",
            " [2.95841164e-04 7.68372317e-08 9.99857008e-01]\n",
            " [9.13580418e-01 2.47670766e-02 2.21398905e-01]\n",
            " [6.77640146e-27 1.00000000e+00 3.38181258e-20]\n",
            " [2.38275941e-23 1.00000000e+00 1.20134766e-17]\n",
            " [2.45596305e-20 2.76592351e-33 1.00000000e+00]\n",
            " [8.98538351e-01 2.90299691e-02 2.44072184e-01]\n",
            " [3.42802427e-21 1.00000000e+00 5.09286977e-16]\n",
            " [9.18445051e-01 2.32789721e-02 2.12895021e-01]\n",
            " [1.05330691e-05 6.97632896e-10 9.99994576e-01]\n",
            " [9.11519945e-01 2.53548175e-02 2.24518135e-01]\n",
            " [2.15633145e-06 5.58563369e-11 9.99998868e-01]\n",
            " [2.30298447e-03 1.71636691e-06 9.98845935e-01]\n",
            " [5.42143360e-04 2.37357469e-07 9.99724150e-01]\n",
            " [7.97956669e-25 1.00000000e+00 1.28365641e-18]\n",
            " [9.14249420e-01 2.45360024e-02 2.19668165e-01]\n",
            " [7.14133345e-17 1.00000000e+00 9.02534015e-13]\n",
            " [8.94091558e-04 4.53682674e-07 9.99541104e-01]\n",
            " [2.74404017e-20 1.00000000e+00 3.11876134e-15]\n",
            " [5.82867291e-14 1.00000000e+00 7.73408698e-11]\n",
            " [5.58957979e-02 2.18305215e-01 7.68284559e-01]\n",
            " [1.58095227e-14 1.00000000e+00 2.85358091e-11]\n",
            " [8.87608349e-01 2.64171995e-02 2.63008296e-01]\n",
            " [8.98553967e-01 2.90173329e-02 2.44157717e-01]\n",
            " [8.98356497e-01 2.89664622e-02 2.44631127e-01]\n",
            " [4.06215110e-26 1.00000000e+00 1.85749753e-19]\n",
            " [8.41884971e-01 2.15757657e-02 3.34756166e-01]\n",
            " [2.55375193e-10 1.00000000e+00 3.67632644e-08]\n",
            " [6.90261126e-01 1.47872558e-02 5.18557549e-01]\n",
            " [6.58435130e-25 1.00000000e+00 1.81863433e-18]\n",
            " [8.71755600e-01 2.36848630e-02 2.83535212e-01]\n",
            " [5.35906196e-01 1.09175788e-02 6.53436422e-01]\n",
            " [9.13531303e-01 2.47815717e-02 2.21388087e-01]\n",
            " [1.00487710e-20 7.16148673e-34 1.00000000e+00]\n",
            " [9.08386469e-01 2.64659766e-02 2.27191910e-01]\n",
            " [7.51498433e-23 1.00000000e+00 3.73729598e-17]\n",
            " [1.98210781e-10 4.19249214e-17 1.00000000e+00]\n",
            " [2.41080688e-14 1.00000000e+00 6.35056174e-11]\n",
            " [9.94670881e-06 5.01226338e-10 9.99995112e-01]\n",
            " [1.62748690e-03 1.21485584e-06 9.99159276e-01]\n",
            " [1.33946355e-06 1.04774340e-11 9.99999404e-01]\n",
            " [5.11095966e-20 1.00000000e+00 4.47885230e-15]\n",
            " [1.37488019e-16 1.00000000e+00 3.36079927e-12]\n",
            " [1.17669897e-05 8.55243543e-10 9.99993861e-01]\n",
            " [3.88391054e-04 1.24146439e-07 9.99805450e-01]\n",
            " [4.34511058e-08 3.89493498e-14 1.00000000e+00]\n",
            " [8.86781991e-01 2.87696887e-02 2.58593440e-01]\n",
            " [9.18854833e-01 2.31542084e-02 2.12177292e-01]\n",
            " [8.07259212e-22 1.00000000e+00 2.68246414e-16]\n",
            " [8.98546100e-01 2.90237088e-02 2.44114518e-01]\n",
            " [9.03886676e-01 2.75186170e-02 2.36075431e-01]\n",
            " [8.46322880e-15 1.62331316e-25 1.00000000e+00]\n",
            " [6.71223371e-28 1.00000000e+00 6.59250791e-21]\n",
            " [5.83346875e-04 2.32413868e-07 9.99713838e-01]\n",
            " [1.16512829e-05 3.40236533e-10 9.99994814e-01]\n",
            " [9.35732722e-01 1.81235690e-02 1.82029590e-01]\n",
            " [1.93145786e-16 1.00000000e+00 1.30795993e-12]\n",
            " [9.36312554e-21 1.00000000e+00 1.33211273e-15]\n",
            " [1.73708471e-22 1.00000000e+00 5.93869490e-17]\n",
            " [2.53493056e-07 1.08100584e-12 9.99999881e-01]\n",
            " [4.38410277e-16 1.00000000e+00 3.34638177e-12]\n",
            " [9.21550810e-01 2.23478284e-02 2.07671046e-01]\n",
            " [9.61813788e-12 7.28697571e-21 1.00000000e+00]\n",
            " [8.73389661e-01 2.43284851e-02 2.83956438e-01]\n",
            " [8.98562610e-01 2.90103201e-02 2.44205222e-01]\n",
            " [8.98599267e-01 2.89806984e-02 2.44406253e-01]\n",
            " [8.98542583e-01 2.90265512e-02 2.44095281e-01]\n",
            " [9.25459266e-01 2.11808830e-02 2.00945362e-01]\n",
            " [8.61107469e-01 2.26638895e-02 3.04123193e-01]\n",
            " [8.98622453e-01 2.89619565e-02 2.44533539e-01]\n",
            " [2.37347910e-23 1.00000000e+00 1.32056539e-17]\n",
            " [2.32243957e-09 1.00000000e+00 1.94668360e-07]\n",
            " [9.17261541e-01 2.36275475e-02 2.14716598e-01]\n",
            " [8.84040084e-04 4.25616207e-07 9.99560893e-01]\n",
            " [8.98640275e-01 2.89475322e-02 2.44631544e-01]\n",
            " [4.02681479e-07 6.41456766e-12 9.99999762e-01]\n",
            " [8.33752930e-01 8.43012407e-02 2.15392217e-01]\n",
            " [9.19340551e-01 2.29982547e-02 2.11160019e-01]\n",
            " [7.01974405e-15 1.66577570e-25 1.00000000e+00]\n",
            " [6.07260353e-11 1.00000000e+00 1.36228806e-08]\n",
            " [2.86281863e-24 1.00000000e+00 3.17775846e-18]\n",
            " [3.88110152e-07 4.99216597e-12 9.99999821e-01]\n",
            " [9.11578834e-01 2.53369249e-02 2.23844156e-01]\n",
            " [9.09099221e-01 2.60597803e-02 2.27952257e-01]\n",
            " [8.88546467e-01 2.77933162e-02 2.57624030e-01]\n",
            " [3.76151408e-15 1.00000000e+00 1.23800718e-11]\n",
            " [2.06397718e-10 5.94934663e-19 1.00000000e+00]\n",
            " [1.51382976e-22 1.00000000e+00 6.12510568e-17]\n",
            " [2.44926250e-05 2.35160491e-09 9.99987125e-01]\n",
            " [2.80371890e-03 2.66422148e-06 9.98604476e-01]\n",
            " [1.69512106e-03 1.21747360e-06 9.99146938e-01]\n",
            " [4.34672103e-22 1.00000000e+00 1.25936726e-16]\n",
            " [2.68723480e-02 9.17347716e-05 9.85773504e-01]\n",
            " [9.14794266e-01 2.43671518e-02 2.18695745e-01]\n",
            " [2.03825270e-16 1.00000000e+00 1.57611250e-12]\n",
            " [9.32059824e-01 1.92212295e-02 1.89150289e-01]\n",
            " [8.92292500e-01 3.21089923e-02 2.43227571e-01]\n",
            " [2.79615237e-03 2.63147308e-06 9.98601377e-01]\n",
            " [1.14200381e-03 7.55137705e-07 9.99412119e-01]]\n",
            "[2 2 0 0 0 2 0 1 0 0 0 0 2 2 1 1 1 0 0 2 2 2 0 2 0 0 0 2 1 0 0 0 1 2 1 1 2\n",
            " 0 0 1 2 0 1 1 1 0 1 0 1 1 1 0 0 0 0 1 2 0 0 2 2 0 1 1 2 0 1 1 2 0 1 0 2 0\n",
            " 2 2 2 1 0 1 2 1 1 2 1 0 0 0 1 0 1 0 1 0 0 0 2 0 1 2 1 2 2 2 1 1 2 2 2 0 0\n",
            " 1 0 0 2 1 2 2 0 1 1 1 2 1 0 2 0 0 0 0 0 0 0 1 1 0 2 0 2 0 0 2 1 1 2 0 0 0\n",
            " 1 2 1 2 2 2 1 2 0 1 0 0 2 2]\n"
          ]
        }
      ],
      "source": [
        "print(model.predict(x_test))\n",
        "print(y_test)"
      ]
    },
    {
      "cell_type": "markdown",
      "metadata": {},
      "source": [
        "## Confusion matrix"
      ]
    },
    {
      "cell_type": "code",
      "execution_count": 50,
      "metadata": {
        "id": "VFxRtA8VQYre"
      },
      "outputs": [],
      "source": [
        "import seaborn as sns\n",
        "import tensorflow as tf\n"
      ]
    },
    {
      "cell_type": "code",
      "execution_count": 51,
      "metadata": {
        "colab": {
          "base_uri": "https://localhost:8080/"
        },
        "id": "RJddK4YnRUYV",
        "outputId": "3a302bca-f43f-4e2b-8768-23d611e6c951"
      },
      "outputs": [
        {
          "name": "stdout",
          "output_type": "stream",
          "text": [
            "\u001b[1m24/24\u001b[0m \u001b[32m━━━━━━━━━━━━━━━━━━━━\u001b[0m\u001b[37m\u001b[0m \u001b[1m1s\u001b[0m 36ms/step\n"
          ]
        },
        {
          "data": {
            "image/png": "[encoded data removed]",
            "text/plain": [
              "<Figure size 800x800 with 2 Axes>"
            ]
          },
          "metadata": {},
          "output_type": "display_data"
        }
      ],
      "source": [
        "y_true=y_train\n",
        "predict_y=model.predict(x_train)\n",
        "y_pred=np.argmax(predict_y,axis=1)\n",
        "\n",
        "classes = [0,1,2]\n",
        "con_mat = tf.math.confusion_matrix(labels=y_true, predictions=y_pred).numpy()\n",
        "con_mat_norm = np.around(con_mat.astype('float')) #/ con_mat.sum(axis=1)[:, np.newaxis], decimals=2)\n",
        "con_mat_df = pd.DataFrame(con_mat_norm,\n",
        "                     index = classes,\n",
        "                     columns = classes)\n",
        "\n",
        "figure = plt.figure(figsize=(8, 8))\n",
        "sns.heatmap(con_mat_df, annot=True,cmap=plt.cm.Blues)\n",
        "plt.tight_layout()\n",
        "plt.ylabel('True label')\n",
        "plt.xlabel('Predicted label')\n",
        "plt.xticks([0,1,2],['banging', 'penetration','steady'])\n",
        "plt.yticks([0,1,2],['banging', 'penetration','steady'])\n",
        "plt.show()"
      ]
    },
    {
      "cell_type": "code",
      "execution_count": null,
      "metadata": {},
      "outputs": [
        {
          "ename": "FileNotFoundError",
          "evalue": "[Errno 2] No such file or directory: 'c:\\\\Users\\\\Iman\\\\Desktop\\\\Stage\\\\code\\\\all_targets_0_13017_test_classes_55.npz'",
          "output_type": "error",
          "traceback": [
            "\u001b[1;31m---------------------------------------------------------------------------\u001b[0m",
            "\u001b[1;31mFileNotFoundError\u001b[0m                         Traceback (most recent call last)",
            "Cell \u001b[1;32mIn[25], line 5\u001b[0m\n\u001b[0;32m      2\u001b[0m \u001b[38;5;28;01mimport\u001b[39;00m \u001b[38;5;21;01mscipy\u001b[39;00m\u001b[38;5;21;01m.\u001b[39;00m\u001b[38;5;21;01minterpolate\u001b[39;00m \u001b[38;5;28;01mas\u001b[39;00m \u001b[38;5;21;01mspi\u001b[39;00m\n\u001b[0;32m      4\u001b[0m \u001b[38;5;66;03m# Load archive with the data to be predicted .npz\u001b[39;00m\n\u001b[1;32m----> 5\u001b[0m test_npz \u001b[38;5;241m=\u001b[39m \u001b[43mnp\u001b[49m\u001b[38;5;241;43m.\u001b[39;49m\u001b[43mload\u001b[49m\u001b[43m(\u001b[49m\u001b[43mos\u001b[49m\u001b[38;5;241;43m.\u001b[39;49m\u001b[43mgetcwd\u001b[49m\u001b[43m(\u001b[49m\u001b[43m)\u001b[49m\u001b[38;5;241;43m+\u001b[39;49m\u001b[38;5;124;43m'\u001b[39;49m\u001b[38;5;130;43;01m\\\\\u001b[39;49;00m\u001b[38;5;124;43mall_targets_0_13017_test_classes_55.npz\u001b[39;49m\u001b[38;5;124;43m'\u001b[39;49m\u001b[43m)\u001b[49m\n\u001b[0;32m      6\u001b[0m test_in \u001b[38;5;241m=\u001b[39m test_npz[\u001b[38;5;124m'\u001b[39m\u001b[38;5;124mx_test\u001b[39m\u001b[38;5;124m'\u001b[39m]                                  \n\u001b[0;32m      8\u001b[0m \u001b[38;5;28mprint\u001b[39m(test_in\u001b[38;5;241m.\u001b[39mshape)\n",
            "File \u001b[1;32mc:\\Users\\Iman\\Desktop\\Stage\\code\\myenv\\Lib\\site-packages\\numpy\\lib\\npyio.py:427\u001b[0m, in \u001b[0;36mload\u001b[1;34m(file, mmap_mode, allow_pickle, fix_imports, encoding, max_header_size)\u001b[0m\n\u001b[0;32m    425\u001b[0m     own_fid \u001b[38;5;241m=\u001b[39m \u001b[38;5;28;01mFalse\u001b[39;00m\n\u001b[0;32m    426\u001b[0m \u001b[38;5;28;01melse\u001b[39;00m:\n\u001b[1;32m--> 427\u001b[0m     fid \u001b[38;5;241m=\u001b[39m stack\u001b[38;5;241m.\u001b[39menter_context(\u001b[38;5;28;43mopen\u001b[39;49m\u001b[43m(\u001b[49m\u001b[43mos_fspath\u001b[49m\u001b[43m(\u001b[49m\u001b[43mfile\u001b[49m\u001b[43m)\u001b[49m\u001b[43m,\u001b[49m\u001b[43m \u001b[49m\u001b[38;5;124;43m\"\u001b[39;49m\u001b[38;5;124;43mrb\u001b[39;49m\u001b[38;5;124;43m\"\u001b[39;49m\u001b[43m)\u001b[49m)\n\u001b[0;32m    428\u001b[0m     own_fid \u001b[38;5;241m=\u001b[39m \u001b[38;5;28;01mTrue\u001b[39;00m\n\u001b[0;32m    430\u001b[0m \u001b[38;5;66;03m# Code to distinguish from NumPy binary files and pickles.\u001b[39;00m\n",
            "\u001b[1;31mFileNotFoundError\u001b[0m: [Errno 2] No such file or directory: 'c:\\\\Users\\\\Iman\\\\Desktop\\\\Stage\\\\code\\\\all_targets_0_13017_test_classes_55.npz'"
          ]
        }
      ],
      "source": [
        "# Prediction test with unclassified parameters\n",
        "import scipy.interpolate as spi\n",
        "\n",
        "# Load archive with the data to be predicted, put in shape with preparing_dataset_1folder\n",
        "test_npz = np.load(os.getcwd()+'\\\\all_targets_0_13017_test_classes_55.npz')\n",
        "test_in = test_npz['x_test']                                  \n",
        "\n",
        "print(test_in.shape)\n",
        "test_in_reshape = test_in.reshape(int(test_in.shape[0]/(NUMBER_ROWS_AZ)),                  # Resize with sample shape\n",
        "                          NUMBER_ROWS_AZ,\n",
        "                          NUMBER_COlUMNS_AZ,\n",
        "                          1)\n",
        "\n",
        "print('number of samples :',test_in_reshape.shape[0])\n",
        "print('test samples shape :',test_in_reshape.shape[1:])\n",
        "\n",
        "# Prediction on test sample pack\n",
        "label = model_az.predict(test_in_reshape)\n",
        "num_samples = test_in_reshape.shape[0]\n",
        "\n",
        "# Loop throught the sample pack to display some of the predictions\n",
        "for i in range (0,num_samples,10):\n",
        "    print(\"Predicted Class for sample\",i,\"(0-idle, 1-presence) \\n0 : \",label[i][0],\"\\n1 : \",label[i][1])    # Print predicted class\n",
        "    sample = test_in[128*i:128*(i+1),:].reshape(\n",
        "                          NUMBER_ROWS_AZ,\n",
        "                          NUMBER_COlUMNS_AZ)\n",
        "    range_res = 0.0436\n",
        "    range_bins = sample.shape[0]\n",
        "    angle_bins = sample.shape[1]\n",
        "    theta = np.arcsin(np.linspace(-angle_bins / 2 + 1, angle_bins / 2 - 1, angle_bins) * (2 / angle_bins))  # Angular linear space for plotting\n",
        "    range = np.linspace(0, range_bins - 1, range_bins) * range_res                                          # Range linear space for plotting\n",
        "    range = np.maximum(range,0)                                                                                 # Keep only positive range value (later add range bias correction)\n",
        "    range_depth = range_bins * range_res                                                         \n",
        "    range_width, grid_res = range_depth/2, 64\n",
        "\n",
        "    # Grid construction\n",
        "    posX = np.outer(range, np.sin(theta))\n",
        "    posY = np.outer(range, np.cos(theta))\n",
        "    xlin = np.linspace(-np.floor(range_width), np.ceil(range_width), angle_bins)\n",
        "    ylin = np.linspace(0, range_depth, range_bins)\n",
        "    xgrid, ygrid = np.meshgrid(xlin, ylin)\n",
        "    ra_grid = spi.griddata((posX.flatten(), posY.flatten()), sample.flatten(),(xgrid, ygrid), method='cubic')\n",
        "    grid_init = 1\n",
        "        \n",
        "    hmplot = plt.contourf(xlin,ylin,sample,cmap='Spectral_r')\n",
        "    plt.title(i)\n",
        "    plt.show()\n",
        "    #print(\"Expected prediction : \",expected[i],\"\\n\")\n",
        "\n",
        "\n",
        "\"\"\"     fig, subs = plt.subplots(2,2)\n",
        "    for x in range(0,4,1): \n",
        "        f = sample[:,:,x]\n",
        "        # read the csv file\n",
        "        if (x < 2):\n",
        "            subs[x][0].imshow(f, cmap='Spectral_r', interpolation='nearest', aspect='auto')\n",
        "        else:\n",
        "            subs[x-2][1].imshow(f, cmap='Spectral_r', interpolation='nearest', aspect='auto') \"\"\" #Doppler plotting"
      ]
    }
  ],
  "metadata": {
    "accelerator": "GPU",
    "colab": {
      "gpuType": "T4",
      "provenance": []
    },
    "kernelspec": {
      "display_name": "Python 3",
      "name": "python3"
    },
    "language_info": {
      "codemirror_mode": {
        "name": "ipython",
        "version": 3
      },
      "file_extension": ".py",
      "mimetype": "text/x-python",
      "name": "python",
      "nbconvert_exporter": "python",
      "pygments_lexer": "ipython3",
      "version": "3.12.3"
    },
    "varInspector": {
      "cols": {
        "lenName": 16,
        "lenType": 16,
        "lenVar": 40
      },
      "kernels_config": {
        "python": {
          "delete_cmd_postfix": "",
          "delete_cmd_prefix": "del ",
          "library": "var_list.py",
          "varRefreshCmd": "print(var_dic_list())"
        },
        "r": {
          "delete_cmd_postfix": ") ",
          "delete_cmd_prefix": "rm(",
          "library": "var_list.r",
          "varRefreshCmd": "cat(var_dic_list()) "
        }
      },
      "types_to_exclude": [
        "module",
        "function",
        "builtin_function_or_method",
        "instance",
        "_Feature"
      ],
      "window_display": false
    },
    "vscode": {
      "interpreter": {
        "hash": "9ee9defd707f6d081fdcbf65a76d1a753d4fe552b5d7c258c2f2fa8deb871eb0"
      }
    }
  },
  "nbformat": 4,
  "nbformat_minor": 0
}
