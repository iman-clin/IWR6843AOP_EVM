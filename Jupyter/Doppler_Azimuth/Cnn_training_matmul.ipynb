{
  "cells": [
    {
      "cell_type": "markdown",
      "metadata": {},
      "source": [
        "# CNN training for pattern recognition on Range-Doppler Heatmap crossed with Static Range-Azimuth Heatmap"
      ]
    },
    {
      "cell_type": "code",
      "execution_count": 12,
      "metadata": {
        "id": "OWIk50LCxL_a"
      },
      "outputs": [],
      "source": [
        "#import tensorflow.keras\n",
        "import os\n",
        "from os import listdir\n",
        "from os.path import isdir, join\n",
        "import numpy as np\n",
        "from keras import layers, models, metrics\n",
        "from subprocess import check_output\n",
        "import pandas as pd\n",
        "import matplotlib.pyplot as plt\n",
        "from sklearn.model_selection import train_test_split\n",
        "import keras\n",
        "from keras.models import Sequential, Model\n",
        "from keras.layers import Conv2D,MaxPooling2D,Dense,Flatten,Dropout\n",
        "from keras.optimizers import Adam,SGD\n",
        "from keras.callbacks import TensorBoard\n",
        "from keras.callbacks import EarlyStopping, ModelCheckpoint"
      ]
    },
    {
      "cell_type": "markdown",
      "metadata": {},
      "source": [
        "## Gathering the database"
      ]
    },
    {
      "cell_type": "code",
      "execution_count": 13,
      "metadata": {
        "id": "82NScAwdxL_f"
      },
      "outputs": [],
      "source": [
        "# CNN files paths\n",
        "work_dir  = os.getcwd()\n",
        "filename_dop = 'all_targets_cross_0_741929408'\n",
        "features_filename = filename_dop + '.npz'\n",
        "model_filename = filename_dop + '.h5'"
      ]
    },
    {
      "cell_type": "code",
      "execution_count": 14,
      "metadata": {
        "colab": {
          "base_uri": "https://localhost:8080/"
        },
        "id": "umnFxNjfxL_f",
        "outputId": "fddb1cc5-1e29-4931-fd69-b579344917d8"
      },
      "outputs": [
        {
          "name": "stdout",
          "output_type": "stream",
          "text": [
            "features for data set: ['x_train', 'y_train', 'x_val', 'y_val', 'x_test', 'y_test']\n"
          ]
        }
      ],
      "source": [
        "# Load feature set\n",
        "features_set = np.load(join(work_dir, features_filename))\n",
        "print('features for data set:',features_set.files)\n",
        "\n",
        "features_set_dop = np.load(join(work_dir,features_filename))"
      ]
    },
    {
      "cell_type": "code",
      "execution_count": 15,
      "metadata": {
        "id": "yagFFPmsxL_g"
      },
      "outputs": [],
      "source": [
        "# Assign feature sets\n",
        "x_train = features_set['x_train']\n",
        "y_train = features_set['y_train']\n",
        "x_val = features_set['x_val']\n",
        "y_val = features_set['y_val']\n",
        "x_test = features_set['x_test']\n",
        "y_test = features_set['y_test']"
      ]
    },
    {
      "cell_type": "code",
      "execution_count": 16,
      "metadata": {
        "colab": {
          "base_uri": "https://localhost:8080/"
        },
        "id": "Kjcy59HvxL_g",
        "outputId": "a1581d92-073a-4af2-dc08-e61d9e035d8f"
      },
      "outputs": [
        {
          "name": "stdout",
          "output_type": "stream",
          "text": [
            "training input shape : (756, 256, 256)\n",
            "validation input shape : (162, 256, 256)\n",
            "test input shape : (162, 256, 256)\n"
          ]
        }
      ],
      "source": [
        "# Look at tensor dimensions\n",
        "print('training input shape :',x_train.shape)\n",
        "print('validation input shape :',x_val.shape)\n",
        "print('test input shape :',x_test.shape)"
      ]
    },
    {
      "cell_type": "code",
      "execution_count": 17,
      "metadata": {
        "id": "8cScxsYHxL_j"
      },
      "outputs": [],
      "source": [
        "# Sample shape\n",
        "NUMBER_ROWS = x_train.shape[1]\n",
        "NUMBER_COlUMNS = x_train.shape[2]"
      ]
    },
    {
      "cell_type": "code",
      "execution_count": 18,
      "metadata": {
        "colab": {
          "base_uri": "https://localhost:8080/"
        },
        "id": "gZSqWeIQxL_j",
        "outputId": "c0e099e5-7200-4d04-e1b7-707764c9c409"
      },
      "outputs": [
        {
          "name": "stdout",
          "output_type": "stream",
          "text": [
            "number of training samples : 756\n",
            "number of validation samples : 162\n",
            "number of test samples : 162\n",
            "sample shape : (256, 256, 1)\n"
          ]
        }
      ],
      "source": [
        "# CNN for TF expects (batch (lote), height, width, channels)\n",
        "# So we reshape the input tensors with a \"color\" channel of ''\n",
        "\n",
        "x_train = x_train.reshape(int(x_train.shape[0]),\n",
        "                          NUMBER_ROWS,\n",
        "                          NUMBER_COlUMNS,\n",
        "                          1)\n",
        "x_val = x_val.reshape(int(x_val.shape[0]),\n",
        "                          NUMBER_ROWS,\n",
        "                          NUMBER_COlUMNS,\n",
        "                          1)\n",
        "x_test = x_test.reshape(int(x_test.shape[0]),\n",
        "                        NUMBER_ROWS,\n",
        "                        NUMBER_COlUMNS,\n",
        "                        1)\n",
        "\n",
        "print('number of training samples :',x_train.shape[0])\n",
        "print('number of validation samples :',x_val.shape[0])\n",
        "print('number of test samples :',x_test.shape[0])\n",
        "\n",
        "sample_shape = x_test.shape[1:]\n",
        "print('sample shape :',sample_shape)"
      ]
    },
    {
      "cell_type": "markdown",
      "metadata": {},
      "source": [
        "## CNN Model construction and training"
      ]
    },
    {
      "cell_type": "markdown",
      "metadata": {},
      "source": [
        "### Model Construction"
      ]
    },
    {
      "cell_type": "code",
      "execution_count": 19,
      "metadata": {
        "colab": {
          "base_uri": "https://localhost:8080/"
        },
        "id": "BbQ5LuzSxL_k",
        "outputId": "8fae3585-7245-4012-9fb1-ba789413248d"
      },
      "outputs": [
        {
          "name": "stderr",
          "output_type": "stream",
          "text": [
            "c:\\Users\\Iman\\Desktop\\Stage\\code\\myenv\\Lib\\site-packages\\keras\\src\\layers\\convolutional\\base_conv.py:107: UserWarning: Do not pass an `input_shape`/`input_dim` argument to a layer. When using Sequential models, prefer using an `Input(shape)` object as the first layer in the model instead.\n",
            "  super().__init__(activity_regularizer=activity_regularizer, **kwargs)\n"
          ]
        },
        {
          "data": {
            "text/html": [
              "<pre style=\"white-space:pre;overflow-x:auto;line-height:normal;font-family:Menlo,'DejaVu Sans Mono',consolas,'Courier New',monospace\"><span style=\"font-weight: bold\">Model: \"sequential_1\"</span>\n",
              "</pre>\n"
            ],
            "text/plain": [
              "\u001b[1mModel: \"sequential_1\"\u001b[0m\n"
            ]
          },
          "metadata": {},
          "output_type": "display_data"
        },
        {
          "data": {
            "text/html": [
              "<pre style=\"white-space:pre;overflow-x:auto;line-height:normal;font-family:Menlo,'DejaVu Sans Mono',consolas,'Courier New',monospace\">┏━━━━━━━━━━━━━━━━━━━━━━━━━━━━━━━━━┳━━━━━━━━━━━━━━━━━━━━━━━━┳━━━━━━━━━━━━━━━┓\n",
              "┃<span style=\"font-weight: bold\"> Layer (type)                    </span>┃<span style=\"font-weight: bold\"> Output Shape           </span>┃<span style=\"font-weight: bold\">       Param # </span>┃\n",
              "┡━━━━━━━━━━━━━━━━━━━━━━━━━━━━━━━━━╇━━━━━━━━━━━━━━━━━━━━━━━━╇━━━━━━━━━━━━━━━┩\n",
              "│ Conv2D_layer1 (<span style=\"color: #0087ff; text-decoration-color: #0087ff\">Conv2D</span>)          │ (<span style=\"color: #00d7ff; text-decoration-color: #00d7ff\">None</span>, <span style=\"color: #00af00; text-decoration-color: #00af00\">256</span>, <span style=\"color: #00af00; text-decoration-color: #00af00\">256</span>, <span style=\"color: #00af00; text-decoration-color: #00af00\">4</span>)    │            <span style=\"color: #00af00; text-decoration-color: #00af00\">40</span> │\n",
              "├─────────────────────────────────┼────────────────────────┼───────────────┤\n",
              "│ Pooling_layer1 (<span style=\"color: #0087ff; text-decoration-color: #0087ff\">MaxPooling2D</span>)   │ (<span style=\"color: #00d7ff; text-decoration-color: #00d7ff\">None</span>, <span style=\"color: #00af00; text-decoration-color: #00af00\">128</span>, <span style=\"color: #00af00; text-decoration-color: #00af00\">128</span>, <span style=\"color: #00af00; text-decoration-color: #00af00\">4</span>)    │             <span style=\"color: #00af00; text-decoration-color: #00af00\">0</span> │\n",
              "├─────────────────────────────────┼────────────────────────┼───────────────┤\n",
              "│ Conv2D_layer2 (<span style=\"color: #0087ff; text-decoration-color: #0087ff\">Conv2D</span>)          │ (<span style=\"color: #00d7ff; text-decoration-color: #00d7ff\">None</span>, <span style=\"color: #00af00; text-decoration-color: #00af00\">128</span>, <span style=\"color: #00af00; text-decoration-color: #00af00\">128</span>, <span style=\"color: #00af00; text-decoration-color: #00af00\">16</span>)   │           <span style=\"color: #00af00; text-decoration-color: #00af00\">592</span> │\n",
              "├─────────────────────────────────┼────────────────────────┼───────────────┤\n",
              "│ Pooling_layer2 (<span style=\"color: #0087ff; text-decoration-color: #0087ff\">MaxPooling2D</span>)   │ (<span style=\"color: #00d7ff; text-decoration-color: #00d7ff\">None</span>, <span style=\"color: #00af00; text-decoration-color: #00af00\">64</span>, <span style=\"color: #00af00; text-decoration-color: #00af00\">64</span>, <span style=\"color: #00af00; text-decoration-color: #00af00\">16</span>)     │             <span style=\"color: #00af00; text-decoration-color: #00af00\">0</span> │\n",
              "├─────────────────────────────────┼────────────────────────┼───────────────┤\n",
              "│ Conv2D_layer3 (<span style=\"color: #0087ff; text-decoration-color: #0087ff\">Conv2D</span>)          │ (<span style=\"color: #00d7ff; text-decoration-color: #00d7ff\">None</span>, <span style=\"color: #00af00; text-decoration-color: #00af00\">64</span>, <span style=\"color: #00af00; text-decoration-color: #00af00\">64</span>, <span style=\"color: #00af00; text-decoration-color: #00af00\">32</span>)     │         <span style=\"color: #00af00; text-decoration-color: #00af00\">4,640</span> │\n",
              "├─────────────────────────────────┼────────────────────────┼───────────────┤\n",
              "│ Pooling_layer3 (<span style=\"color: #0087ff; text-decoration-color: #0087ff\">MaxPooling2D</span>)   │ (<span style=\"color: #00d7ff; text-decoration-color: #00d7ff\">None</span>, <span style=\"color: #00af00; text-decoration-color: #00af00\">32</span>, <span style=\"color: #00af00; text-decoration-color: #00af00\">32</span>, <span style=\"color: #00af00; text-decoration-color: #00af00\">32</span>)     │             <span style=\"color: #00af00; text-decoration-color: #00af00\">0</span> │\n",
              "├─────────────────────────────────┼────────────────────────┼───────────────┤\n",
              "│ flatten_1 (<span style=\"color: #0087ff; text-decoration-color: #0087ff\">Flatten</span>)             │ (<span style=\"color: #00d7ff; text-decoration-color: #00d7ff\">None</span>, <span style=\"color: #00af00; text-decoration-color: #00af00\">32768</span>)          │             <span style=\"color: #00af00; text-decoration-color: #00af00\">0</span> │\n",
              "├─────────────────────────────────┼────────────────────────┼───────────────┤\n",
              "│ dense_3 (<span style=\"color: #0087ff; text-decoration-color: #0087ff\">Dense</span>)                 │ (<span style=\"color: #00d7ff; text-decoration-color: #00d7ff\">None</span>, <span style=\"color: #00af00; text-decoration-color: #00af00\">128</span>)            │     <span style=\"color: #00af00; text-decoration-color: #00af00\">4,194,432</span> │\n",
              "├─────────────────────────────────┼────────────────────────┼───────────────┤\n",
              "│ dropout_2 (<span style=\"color: #0087ff; text-decoration-color: #0087ff\">Dropout</span>)             │ (<span style=\"color: #00d7ff; text-decoration-color: #00d7ff\">None</span>, <span style=\"color: #00af00; text-decoration-color: #00af00\">128</span>)            │             <span style=\"color: #00af00; text-decoration-color: #00af00\">0</span> │\n",
              "├─────────────────────────────────┼────────────────────────┼───────────────┤\n",
              "│ dense_4 (<span style=\"color: #0087ff; text-decoration-color: #0087ff\">Dense</span>)                 │ (<span style=\"color: #00d7ff; text-decoration-color: #00d7ff\">None</span>, <span style=\"color: #00af00; text-decoration-color: #00af00\">32</span>)             │         <span style=\"color: #00af00; text-decoration-color: #00af00\">4,128</span> │\n",
              "├─────────────────────────────────┼────────────────────────┼───────────────┤\n",
              "│ dropout_3 (<span style=\"color: #0087ff; text-decoration-color: #0087ff\">Dropout</span>)             │ (<span style=\"color: #00d7ff; text-decoration-color: #00d7ff\">None</span>, <span style=\"color: #00af00; text-decoration-color: #00af00\">32</span>)             │             <span style=\"color: #00af00; text-decoration-color: #00af00\">0</span> │\n",
              "├─────────────────────────────────┼────────────────────────┼───────────────┤\n",
              "│ dense_5 (<span style=\"color: #0087ff; text-decoration-color: #0087ff\">Dense</span>)                 │ (<span style=\"color: #00d7ff; text-decoration-color: #00d7ff\">None</span>, <span style=\"color: #00af00; text-decoration-color: #00af00\">3</span>)              │            <span style=\"color: #00af00; text-decoration-color: #00af00\">99</span> │\n",
              "└─────────────────────────────────┴────────────────────────┴───────────────┘\n",
              "</pre>\n"
            ],
            "text/plain": [
              "┏━━━━━━━━━━━━━━━━━━━━━━━━━━━━━━━━━┳━━━━━━━━━━━━━━━━━━━━━━━━┳━━━━━━━━━━━━━━━┓\n",
              "┃\u001b[1m \u001b[0m\u001b[1mLayer (type)                   \u001b[0m\u001b[1m \u001b[0m┃\u001b[1m \u001b[0m\u001b[1mOutput Shape          \u001b[0m\u001b[1m \u001b[0m┃\u001b[1m \u001b[0m\u001b[1m      Param #\u001b[0m\u001b[1m \u001b[0m┃\n",
              "┡━━━━━━━━━━━━━━━━━━━━━━━━━━━━━━━━━╇━━━━━━━━━━━━━━━━━━━━━━━━╇━━━━━━━━━━━━━━━┩\n",
              "│ Conv2D_layer1 (\u001b[38;5;33mConv2D\u001b[0m)          │ (\u001b[38;5;45mNone\u001b[0m, \u001b[38;5;34m256\u001b[0m, \u001b[38;5;34m256\u001b[0m, \u001b[38;5;34m4\u001b[0m)    │            \u001b[38;5;34m40\u001b[0m │\n",
              "├─────────────────────────────────┼────────────────────────┼───────────────┤\n",
              "│ Pooling_layer1 (\u001b[38;5;33mMaxPooling2D\u001b[0m)   │ (\u001b[38;5;45mNone\u001b[0m, \u001b[38;5;34m128\u001b[0m, \u001b[38;5;34m128\u001b[0m, \u001b[38;5;34m4\u001b[0m)    │             \u001b[38;5;34m0\u001b[0m │\n",
              "├─────────────────────────────────┼────────────────────────┼───────────────┤\n",
              "│ Conv2D_layer2 (\u001b[38;5;33mConv2D\u001b[0m)          │ (\u001b[38;5;45mNone\u001b[0m, \u001b[38;5;34m128\u001b[0m, \u001b[38;5;34m128\u001b[0m, \u001b[38;5;34m16\u001b[0m)   │           \u001b[38;5;34m592\u001b[0m │\n",
              "├─────────────────────────────────┼────────────────────────┼───────────────┤\n",
              "│ Pooling_layer2 (\u001b[38;5;33mMaxPooling2D\u001b[0m)   │ (\u001b[38;5;45mNone\u001b[0m, \u001b[38;5;34m64\u001b[0m, \u001b[38;5;34m64\u001b[0m, \u001b[38;5;34m16\u001b[0m)     │             \u001b[38;5;34m0\u001b[0m │\n",
              "├─────────────────────────────────┼────────────────────────┼───────────────┤\n",
              "│ Conv2D_layer3 (\u001b[38;5;33mConv2D\u001b[0m)          │ (\u001b[38;5;45mNone\u001b[0m, \u001b[38;5;34m64\u001b[0m, \u001b[38;5;34m64\u001b[0m, \u001b[38;5;34m32\u001b[0m)     │         \u001b[38;5;34m4,640\u001b[0m │\n",
              "├─────────────────────────────────┼────────────────────────┼───────────────┤\n",
              "│ Pooling_layer3 (\u001b[38;5;33mMaxPooling2D\u001b[0m)   │ (\u001b[38;5;45mNone\u001b[0m, \u001b[38;5;34m32\u001b[0m, \u001b[38;5;34m32\u001b[0m, \u001b[38;5;34m32\u001b[0m)     │             \u001b[38;5;34m0\u001b[0m │\n",
              "├─────────────────────────────────┼────────────────────────┼───────────────┤\n",
              "│ flatten_1 (\u001b[38;5;33mFlatten\u001b[0m)             │ (\u001b[38;5;45mNone\u001b[0m, \u001b[38;5;34m32768\u001b[0m)          │             \u001b[38;5;34m0\u001b[0m │\n",
              "├─────────────────────────────────┼────────────────────────┼───────────────┤\n",
              "│ dense_3 (\u001b[38;5;33mDense\u001b[0m)                 │ (\u001b[38;5;45mNone\u001b[0m, \u001b[38;5;34m128\u001b[0m)            │     \u001b[38;5;34m4,194,432\u001b[0m │\n",
              "├─────────────────────────────────┼────────────────────────┼───────────────┤\n",
              "│ dropout_2 (\u001b[38;5;33mDropout\u001b[0m)             │ (\u001b[38;5;45mNone\u001b[0m, \u001b[38;5;34m128\u001b[0m)            │             \u001b[38;5;34m0\u001b[0m │\n",
              "├─────────────────────────────────┼────────────────────────┼───────────────┤\n",
              "│ dense_4 (\u001b[38;5;33mDense\u001b[0m)                 │ (\u001b[38;5;45mNone\u001b[0m, \u001b[38;5;34m32\u001b[0m)             │         \u001b[38;5;34m4,128\u001b[0m │\n",
              "├─────────────────────────────────┼────────────────────────┼───────────────┤\n",
              "│ dropout_3 (\u001b[38;5;33mDropout\u001b[0m)             │ (\u001b[38;5;45mNone\u001b[0m, \u001b[38;5;34m32\u001b[0m)             │             \u001b[38;5;34m0\u001b[0m │\n",
              "├─────────────────────────────────┼────────────────────────┼───────────────┤\n",
              "│ dense_5 (\u001b[38;5;33mDense\u001b[0m)                 │ (\u001b[38;5;45mNone\u001b[0m, \u001b[38;5;34m3\u001b[0m)              │            \u001b[38;5;34m99\u001b[0m │\n",
              "└─────────────────────────────────┴────────────────────────┴───────────────┘\n"
            ]
          },
          "metadata": {},
          "output_type": "display_data"
        },
        {
          "data": {
            "text/html": [
              "<pre style=\"white-space:pre;overflow-x:auto;line-height:normal;font-family:Menlo,'DejaVu Sans Mono',consolas,'Courier New',monospace\"><span style=\"font-weight: bold\"> Total params: </span><span style=\"color: #00af00; text-decoration-color: #00af00\">4,203,931</span> (16.04 MB)\n",
              "</pre>\n"
            ],
            "text/plain": [
              "\u001b[1m Total params: \u001b[0m\u001b[38;5;34m4,203,931\u001b[0m (16.04 MB)\n"
            ]
          },
          "metadata": {},
          "output_type": "display_data"
        },
        {
          "data": {
            "text/html": [
              "<pre style=\"white-space:pre;overflow-x:auto;line-height:normal;font-family:Menlo,'DejaVu Sans Mono',consolas,'Courier New',monospace\"><span style=\"font-weight: bold\"> Trainable params: </span><span style=\"color: #00af00; text-decoration-color: #00af00\">4,203,931</span> (16.04 MB)\n",
              "</pre>\n"
            ],
            "text/plain": [
              "\u001b[1m Trainable params: \u001b[0m\u001b[38;5;34m4,203,931\u001b[0m (16.04 MB)\n"
            ]
          },
          "metadata": {},
          "output_type": "display_data"
        },
        {
          "data": {
            "text/html": [
              "<pre style=\"white-space:pre;overflow-x:auto;line-height:normal;font-family:Menlo,'DejaVu Sans Mono',consolas,'Courier New',monospace\"><span style=\"font-weight: bold\"> Non-trainable params: </span><span style=\"color: #00af00; text-decoration-color: #00af00\">0</span> (0.00 B)\n",
              "</pre>\n"
            ],
            "text/plain": [
              "\u001b[1m Non-trainable params: \u001b[0m\u001b[38;5;34m0\u001b[0m (0.00 B)\n"
            ]
          },
          "metadata": {},
          "output_type": "display_data"
        }
      ],
      "source": [
        "# Build model\n",
        "# Based on: https://www.geeksforgeeks.org/python-image-classification-using-keras/\n",
        "model = models.Sequential()\n",
        "\n",
        "# Convolution filters\n",
        "model.add(layers.Conv2D(filters=4, kernel_size=(3,3), kernel_initializer='random_normal', activation='relu', padding = 'same', input_shape=sample_shape, name = 'Conv2D_layer1'))\n",
        "model.add(layers.MaxPooling2D(pool_size=(2,2), name = 'Pooling_layer1'))\n",
        "\n",
        "model.add(layers.Conv2D(filters=16, kernel_size=(3,3), kernel_initializer='random_normal', activation='relu', padding = 'same', name = 'Conv2D_layer2'))\n",
        "model.add(layers.MaxPooling2D(pool_size=(2,2), name = 'Pooling_layer2'))\n",
        "\n",
        "model.add(layers.Conv2D(filters=32, kernel_size=(3,3), kernel_initializer='random_normal', activation='relu', padding = 'same', name = 'Conv2D_layer3'))\n",
        "model.add(layers.MaxPooling2D(pool_size=(2,2), name = 'Pooling_layer3'))\n",
        "\n",
        "# Classifier\n",
        "model.add(Flatten())\n",
        "model.add(Dense(128, kernel_initializer='random_normal', activation='relu'))\n",
        "model.add(Dropout(0.5))\n",
        "model.add(Dense(32, kernel_initializer='random_normal', activation='relu'))\n",
        "model.add(Dropout(0.5))\n",
        "\n",
        "# Check Number of Classes Before Training\n",
        "model.add(Dense(3, activation='sigmoid'))\n",
        "\n",
        "# Display model\n",
        "model.layers\n",
        "model.summary()"
      ]
    },
    {
      "cell_type": "markdown",
      "metadata": {},
      "source": [
        "### Model training"
      ]
    },
    {
      "cell_type": "code",
      "execution_count": 20,
      "metadata": {
        "colab": {
          "base_uri": "https://localhost:8080/"
        },
        "collapsed": true,
        "id": "vEUlzVn1xL_l",
        "outputId": "cda845d9-ee88-4107-cc9d-99eb70b09c5a"
      },
      "outputs": [
        {
          "name": "stdout",
          "output_type": "stream",
          "text": [
            "Epoch 1/250\n",
            "\u001b[1m189/189\u001b[0m \u001b[32m━━━━━━━━━━━━━━━━━━━━\u001b[0m\u001b[37m\u001b[0m \u001b[1m22s\u001b[0m 91ms/step - accuracy: 0.5832 - loss: 0.0081 - val_accuracy: 1.0000 - val_loss: 2.4784e-05\n",
            "Epoch 2/250\n",
            "\u001b[1m189/189\u001b[0m \u001b[32m━━━━━━━━━━━━━━━━━━━━\u001b[0m\u001b[37m\u001b[0m \u001b[1m16s\u001b[0m 86ms/step - accuracy: 0.9674 - loss: 8.8189e-04 - val_accuracy: 1.0000 - val_loss: 2.6405e-06\n",
            "Epoch 3/250\n",
            "\u001b[1m189/189\u001b[0m \u001b[32m━━━━━━━━━━━━━━━━━━━━\u001b[0m\u001b[37m\u001b[0m \u001b[1m16s\u001b[0m 82ms/step - accuracy: 0.9877 - loss: 3.1055e-04 - val_accuracy: 1.0000 - val_loss: 5.5328e-08\n",
            "Epoch 4/250\n",
            "\u001b[1m189/189\u001b[0m \u001b[32m━━━━━━━━━━━━━━━━━━━━\u001b[0m\u001b[37m\u001b[0m \u001b[1m16s\u001b[0m 82ms/step - accuracy: 0.9932 - loss: 2.9781e-04 - val_accuracy: 1.0000 - val_loss: 3.2489e-06\n",
            "Epoch 5/250\n",
            "\u001b[1m189/189\u001b[0m \u001b[32m━━━━━━━━━━━━━━━━━━━━\u001b[0m\u001b[37m\u001b[0m \u001b[1m16s\u001b[0m 85ms/step - accuracy: 0.9849 - loss: 4.6210e-04 - val_accuracy: 1.0000 - val_loss: 4.4688e-08\n",
            "Epoch 6/250\n",
            "\u001b[1m189/189\u001b[0m \u001b[32m━━━━━━━━━━━━━━━━━━━━\u001b[0m\u001b[37m\u001b[0m \u001b[1m15s\u001b[0m 81ms/step - accuracy: 1.0000 - loss: 1.1995e-04 - val_accuracy: 1.0000 - val_loss: 1.5379e-09\n",
            "Epoch 7/250\n",
            "\u001b[1m189/189\u001b[0m \u001b[32m━━━━━━━━━━━━━━━━━━━━\u001b[0m\u001b[37m\u001b[0m \u001b[1m15s\u001b[0m 81ms/step - accuracy: 0.9997 - loss: 6.5840e-05 - val_accuracy: 1.0000 - val_loss: 2.3253e-09\n",
            "Epoch 8/250\n",
            "\u001b[1m189/189\u001b[0m \u001b[32m━━━━━━━━━━━━━━━━━━━━\u001b[0m\u001b[37m\u001b[0m \u001b[1m16s\u001b[0m 86ms/step - accuracy: 0.9898 - loss: 3.3674e-04 - val_accuracy: 1.0000 - val_loss: 8.7567e-10\n",
            "Epoch 9/250\n",
            "\u001b[1m189/189\u001b[0m \u001b[32m━━━━━━━━━━━━━━━━━━━━\u001b[0m\u001b[37m\u001b[0m \u001b[1m16s\u001b[0m 85ms/step - accuracy: 1.0000 - loss: 4.7770e-05 - val_accuracy: 1.0000 - val_loss: 9.5662e-11\n",
            "Epoch 10/250\n",
            "\u001b[1m189/189\u001b[0m \u001b[32m━━━━━━━━━━━━━━━━━━━━\u001b[0m\u001b[37m\u001b[0m \u001b[1m16s\u001b[0m 83ms/step - accuracy: 1.0000 - loss: 2.1746e-05 - val_accuracy: 1.0000 - val_loss: 5.8869e-11\n",
            "Epoch 11/250\n",
            "\u001b[1m189/189\u001b[0m \u001b[32m━━━━━━━━━━━━━━━━━━━━\u001b[0m\u001b[37m\u001b[0m \u001b[1m17s\u001b[0m 88ms/step - accuracy: 0.9943 - loss: 1.8128e-04 - val_accuracy: 1.0000 - val_loss: 2.5201e-08\n",
            "Epoch 12/250\n",
            "\u001b[1m189/189\u001b[0m \u001b[32m━━━━━━━━━━━━━━━━━━━━\u001b[0m\u001b[37m\u001b[0m \u001b[1m16s\u001b[0m 87ms/step - accuracy: 0.9958 - loss: 8.9623e-05 - val_accuracy: 1.0000 - val_loss: 9.5662e-11\n",
            "Epoch 13/250\n",
            "\u001b[1m189/189\u001b[0m \u001b[32m━━━━━━━━━━━━━━━━━━━━\u001b[0m\u001b[37m\u001b[0m \u001b[1m20s\u001b[0m 85ms/step - accuracy: 1.0000 - loss: 2.6937e-05 - val_accuracy: 1.0000 - val_loss: 7.3586e-12\n",
            "Epoch 14/250\n",
            "\u001b[1m189/189\u001b[0m \u001b[32m━━━━━━━━━━━━━━━━━━━━\u001b[0m\u001b[37m\u001b[0m \u001b[1m16s\u001b[0m 87ms/step - accuracy: 1.0000 - loss: 2.2978e-05 - val_accuracy: 1.0000 - val_loss: 3.6793e-11\n",
            "Epoch 15/250\n",
            "\u001b[1m189/189\u001b[0m \u001b[32m━━━━━━━━━━━━━━━━━━━━\u001b[0m\u001b[37m\u001b[0m \u001b[1m16s\u001b[0m 87ms/step - accuracy: 0.9934 - loss: 1.1268e-04 - val_accuracy: 1.0000 - val_loss: 0.0000e+00\n",
            "Epoch 16/250\n",
            "\u001b[1m189/189\u001b[0m \u001b[32m━━━━━━━━━━━━━━━━━━━━\u001b[0m\u001b[37m\u001b[0m \u001b[1m16s\u001b[0m 84ms/step - accuracy: 0.9977 - loss: 6.4196e-05 - val_accuracy: 1.0000 - val_loss: 0.0000e+00\n",
            "Epoch 17/250\n",
            "\u001b[1m189/189\u001b[0m \u001b[32m━━━━━━━━━━━━━━━━━━━━\u001b[0m\u001b[37m\u001b[0m \u001b[1m17s\u001b[0m 87ms/step - accuracy: 0.9994 - loss: 3.4619e-05 - val_accuracy: 1.0000 - val_loss: 7.3586e-12\n",
            "Epoch 18/250\n",
            "\u001b[1m189/189\u001b[0m \u001b[32m━━━━━━━━━━━━━━━━━━━━\u001b[0m\u001b[37m\u001b[0m \u001b[1m16s\u001b[0m 85ms/step - accuracy: 0.9915 - loss: 1.4466e-04 - val_accuracy: 1.0000 - val_loss: 1.3098e-09\n",
            "Epoch 19/250\n",
            "\u001b[1m189/189\u001b[0m \u001b[32m━━━━━━━━━━━━━━━━━━━━\u001b[0m\u001b[37m\u001b[0m \u001b[1m16s\u001b[0m 85ms/step - accuracy: 0.9724 - loss: 0.0010 - val_accuracy: 1.0000 - val_loss: 1.6772e-07\n",
            "Epoch 20/250\n",
            "\u001b[1m189/189\u001b[0m \u001b[32m━━━━━━━━━━━━━━━━━━━━\u001b[0m\u001b[37m\u001b[0m \u001b[1m17s\u001b[0m 90ms/step - accuracy: 0.9990 - loss: 4.4686e-05 - val_accuracy: 1.0000 - val_loss: 2.6490e-09\n",
            "Epoch 21/250\n",
            "\u001b[1m189/189\u001b[0m \u001b[32m━━━━━━━━━━━━━━━━━━━━\u001b[0m\u001b[37m\u001b[0m \u001b[1m16s\u001b[0m 87ms/step - accuracy: 0.9976 - loss: 7.4741e-05 - val_accuracy: 1.0000 - val_loss: 2.8698e-10\n",
            "Epoch 22/250\n",
            "\u001b[1m189/189\u001b[0m \u001b[32m━━━━━━━━━━━━━━━━━━━━\u001b[0m\u001b[37m\u001b[0m \u001b[1m16s\u001b[0m 83ms/step - accuracy: 0.9997 - loss: 5.3136e-05 - val_accuracy: 1.0000 - val_loss: 7.3586e-12\n",
            "Epoch 23/250\n",
            "\u001b[1m189/189\u001b[0m \u001b[32m━━━━━━━━━━━━━━━━━━━━\u001b[0m\u001b[37m\u001b[0m \u001b[1m16s\u001b[0m 86ms/step - accuracy: 0.9975 - loss: 8.8841e-05 - val_accuracy: 0.8272 - val_loss: 0.0054\n",
            "Epoch 24/250\n",
            "\u001b[1m189/189\u001b[0m \u001b[32m━━━━━━━━━━━━━━━━━━━━\u001b[0m\u001b[37m\u001b[0m \u001b[1m16s\u001b[0m 86ms/step - accuracy: 0.9668 - loss: 0.0015 - val_accuracy: 1.0000 - val_loss: 7.1757e-08\n",
            "Epoch 25/250\n",
            "\u001b[1m189/189\u001b[0m \u001b[32m━━━━━━━━━━━━━━━━━━━━\u001b[0m\u001b[37m\u001b[0m \u001b[1m16s\u001b[0m 82ms/step - accuracy: 0.9701 - loss: 5.5211e-04 - val_accuracy: 1.0000 - val_loss: 4.3416e-10\n",
            "Epoch 26/250\n",
            "\u001b[1m189/189\u001b[0m \u001b[32m━━━━━━━━━━━━━━━━━━━━\u001b[0m\u001b[37m\u001b[0m \u001b[1m16s\u001b[0m 85ms/step - accuracy: 0.9949 - loss: 9.4571e-05 - val_accuracy: 1.0000 - val_loss: 7.3586e-12\n",
            "Epoch 27/250\n",
            "\u001b[1m189/189\u001b[0m \u001b[32m━━━━━━━━━━━━━━━━━━━━\u001b[0m\u001b[37m\u001b[0m \u001b[1m16s\u001b[0m 86ms/step - accuracy: 0.9979 - loss: 4.5090e-05 - val_accuracy: 1.0000 - val_loss: 0.0000e+00\n",
            "Epoch 28/250\n",
            "\u001b[1m189/189\u001b[0m \u001b[32m━━━━━━━━━━━━━━━━━━━━\u001b[0m\u001b[37m\u001b[0m \u001b[1m16s\u001b[0m 83ms/step - accuracy: 0.9940 - loss: 9.0231e-05 - val_accuracy: 1.0000 - val_loss: 4.5254e-09\n",
            "Epoch 29/250\n",
            "\u001b[1m189/189\u001b[0m \u001b[32m━━━━━━━━━━━━━━━━━━━━\u001b[0m\u001b[37m\u001b[0m \u001b[1m16s\u001b[0m 86ms/step - accuracy: 0.9957 - loss: 6.1391e-05 - val_accuracy: 1.0000 - val_loss: 7.3586e-11\n",
            "Epoch 30/250\n",
            "\u001b[1m189/189\u001b[0m \u001b[32m━━━━━━━━━━━━━━━━━━━━\u001b[0m\u001b[37m\u001b[0m \u001b[1m18s\u001b[0m 94ms/step - accuracy: 0.9954 - loss: 6.3330e-05 - val_accuracy: 1.0000 - val_loss: 0.0000e+00\n",
            "Epoch 31/250\n",
            "\u001b[1m189/189\u001b[0m \u001b[32m━━━━━━━━━━━━━━━━━━━━\u001b[0m\u001b[37m\u001b[0m \u001b[1m17s\u001b[0m 88ms/step - accuracy: 0.9978 - loss: 4.6041e-05 - val_accuracy: 1.0000 - val_loss: 0.0000e+00\n",
            "Epoch 32/250\n",
            "\u001b[1m189/189\u001b[0m \u001b[32m━━━━━━━━━━━━━━━━━━━━\u001b[0m\u001b[37m\u001b[0m \u001b[1m17s\u001b[0m 87ms/step - accuracy: 0.9953 - loss: 5.7996e-05 - val_accuracy: 1.0000 - val_loss: 0.0000e+00\n",
            "Epoch 33/250\n",
            "\u001b[1m189/189\u001b[0m \u001b[32m━━━━━━━━━━━━━━━━━━━━\u001b[0m\u001b[37m\u001b[0m \u001b[1m17s\u001b[0m 89ms/step - accuracy: 0.9921 - loss: 8.3344e-05 - val_accuracy: 1.0000 - val_loss: 7.5793e-10\n",
            "Epoch 34/250\n",
            "\u001b[1m189/189\u001b[0m \u001b[32m━━━━━━━━━━━━━━━━━━━━\u001b[0m\u001b[37m\u001b[0m \u001b[1m17s\u001b[0m 92ms/step - accuracy: 0.9959 - loss: 6.6560e-05 - val_accuracy: 1.0000 - val_loss: 0.0000e+00\n",
            "Epoch 35/250\n",
            "\u001b[1m189/189\u001b[0m \u001b[32m━━━━━━━━━━━━━━━━━━━━\u001b[0m\u001b[37m\u001b[0m \u001b[1m19s\u001b[0m 98ms/step - accuracy: 0.9990 - loss: 2.3334e-05 - val_accuracy: 1.0000 - val_loss: 0.0000e+00\n",
            "Epoch 36/250\n",
            "\u001b[1m189/189\u001b[0m \u001b[32m━━━━━━━━━━━━━━━━━━━━\u001b[0m\u001b[37m\u001b[0m \u001b[1m17s\u001b[0m 89ms/step - accuracy: 0.9990 - loss: 3.5979e-05 - val_accuracy: 1.0000 - val_loss: 0.0000e+00\n",
            "Epoch 37/250\n",
            "\u001b[1m189/189\u001b[0m \u001b[32m━━━━━━━━━━━━━━━━━━━━\u001b[0m\u001b[37m\u001b[0m \u001b[1m16s\u001b[0m 86ms/step - accuracy: 0.9988 - loss: 3.4191e-05 - val_accuracy: 1.0000 - val_loss: 0.0000e+00\n",
            "Epoch 38/250\n",
            "\u001b[1m189/189\u001b[0m \u001b[32m━━━━━━━━━━━━━━━━━━━━\u001b[0m\u001b[37m\u001b[0m \u001b[1m16s\u001b[0m 86ms/step - accuracy: 0.9868 - loss: 7.3537e-04 - val_accuracy: 0.9630 - val_loss: 9.4616e-04\n",
            "Epoch 39/250\n",
            "\u001b[1m189/189\u001b[0m \u001b[32m━━━━━━━━━━━━━━━━━━━━\u001b[0m\u001b[37m\u001b[0m \u001b[1m16s\u001b[0m 86ms/step - accuracy: 0.9920 - loss: 8.8765e-04 - val_accuracy: 1.0000 - val_loss: 4.3599e-08\n",
            "Epoch 40/250\n",
            "\u001b[1m189/189\u001b[0m \u001b[32m━━━━━━━━━━━━━━━━━━━━\u001b[0m\u001b[37m\u001b[0m \u001b[1m16s\u001b[0m 82ms/step - accuracy: 0.9954 - loss: 8.4759e-05 - val_accuracy: 1.0000 - val_loss: 7.7555e-09\n",
            "Epoch 41/250\n",
            "\u001b[1m189/189\u001b[0m \u001b[32m━━━━━━━━━━━━━━━━━━━━\u001b[0m\u001b[37m\u001b[0m \u001b[1m16s\u001b[0m 85ms/step - accuracy: 0.9999 - loss: 3.7695e-05 - val_accuracy: 1.0000 - val_loss: 2.7815e-09\n",
            "Epoch 42/250\n",
            "\u001b[1m189/189\u001b[0m \u001b[32m━━━━━━━━━━━━━━━━━━━━\u001b[0m\u001b[37m\u001b[0m \u001b[1m16s\u001b[0m 85ms/step - accuracy: 0.9906 - loss: 2.6484e-04 - val_accuracy: 1.0000 - val_loss: 2.4136e-09\n",
            "Epoch 43/250\n",
            "\u001b[1m189/189\u001b[0m \u001b[32m━━━━━━━━━━━━━━━━━━━━\u001b[0m\u001b[37m\u001b[0m \u001b[1m16s\u001b[0m 84ms/step - accuracy: 0.9971 - loss: 4.6376e-05 - val_accuracy: 1.0000 - val_loss: 7.0642e-10\n",
            "Epoch 44/250\n",
            "\u001b[1m189/189\u001b[0m \u001b[32m━━━━━━━━━━━━━━━━━━━━\u001b[0m\u001b[37m\u001b[0m \u001b[1m16s\u001b[0m 84ms/step - accuracy: 0.9948 - loss: 7.6943e-05 - val_accuracy: 1.0000 - val_loss: 4.4152e-11\n",
            "Epoch 45/250\n",
            "\u001b[1m189/189\u001b[0m \u001b[32m━━━━━━━━━━━━━━━━━━━━\u001b[0m\u001b[37m\u001b[0m \u001b[1m16s\u001b[0m 85ms/step - accuracy: 0.9990 - loss: 4.4443e-05 - val_accuracy: 1.0000 - val_loss: 2.2076e-11\n",
            "Epoch 46/250\n",
            "\u001b[1m189/189\u001b[0m \u001b[32m━━━━━━━━━━━━━━━━━━━━\u001b[0m\u001b[37m\u001b[0m \u001b[1m16s\u001b[0m 82ms/step - accuracy: 1.0000 - loss: 4.4968e-05 - val_accuracy: 1.0000 - val_loss: 0.0000e+00\n",
            "Epoch 47/250\n",
            "\u001b[1m189/189\u001b[0m \u001b[32m━━━━━━━━━━━━━━━━━━━━\u001b[0m\u001b[37m\u001b[0m \u001b[1m16s\u001b[0m 85ms/step - accuracy: 0.9993 - loss: 2.3933e-05 - val_accuracy: 1.0000 - val_loss: 5.8869e-11\n",
            "Epoch 48/250\n",
            "\u001b[1m189/189\u001b[0m \u001b[32m━━━━━━━━━━━━━━━━━━━━\u001b[0m\u001b[37m\u001b[0m \u001b[1m16s\u001b[0m 86ms/step - accuracy: 0.9960 - loss: 1.4190e-04 - val_accuracy: 1.0000 - val_loss: 1.4717e-10\n",
            "Epoch 49/250\n",
            "\u001b[1m189/189\u001b[0m \u001b[32m━━━━━━━━━━━━━━━━━━━━\u001b[0m\u001b[37m\u001b[0m \u001b[1m16s\u001b[0m 83ms/step - accuracy: 1.0000 - loss: 7.7856e-06 - val_accuracy: 1.0000 - val_loss: 7.3586e-12\n",
            "Epoch 50/250\n",
            "\u001b[1m189/189\u001b[0m \u001b[32m━━━━━━━━━━━━━━━━━━━━\u001b[0m\u001b[37m\u001b[0m \u001b[1m16s\u001b[0m 83ms/step - accuracy: 0.9982 - loss: 2.7194e-05 - val_accuracy: 1.0000 - val_loss: 1.2510e-10\n",
            "Epoch 51/250\n",
            "\u001b[1m189/189\u001b[0m \u001b[32m━━━━━━━━━━━━━━━━━━━━\u001b[0m\u001b[37m\u001b[0m \u001b[1m16s\u001b[0m 85ms/step - accuracy: 0.9964 - loss: 1.4009e-04 - val_accuracy: 1.0000 - val_loss: 8.0945e-11\n",
            "Epoch 52/250\n",
            "\u001b[1m189/189\u001b[0m \u001b[32m━━━━━━━━━━━━━━━━━━━━\u001b[0m\u001b[37m\u001b[0m \u001b[1m16s\u001b[0m 85ms/step - accuracy: 0.9924 - loss: 1.2128e-04 - val_accuracy: 1.0000 - val_loss: 0.0000e+00\n",
            "Epoch 53/250\n",
            "\u001b[1m189/189\u001b[0m \u001b[32m━━━━━━━━━━━━━━━━━━━━\u001b[0m\u001b[37m\u001b[0m \u001b[1m16s\u001b[0m 84ms/step - accuracy: 1.0000 - loss: 3.1665e-06 - val_accuracy: 1.0000 - val_loss: 0.0000e+00\n",
            "Epoch 54/250\n",
            "\u001b[1m189/189\u001b[0m \u001b[32m━━━━━━━━━━━━━━━━━━━━\u001b[0m\u001b[37m\u001b[0m \u001b[1m16s\u001b[0m 86ms/step - accuracy: 1.0000 - loss: 2.1440e-06 - val_accuracy: 1.0000 - val_loss: 0.0000e+00\n",
            "Epoch 55/250\n",
            "\u001b[1m189/189\u001b[0m \u001b[32m━━━━━━━━━━━━━━━━━━━━\u001b[0m\u001b[37m\u001b[0m \u001b[1m16s\u001b[0m 84ms/step - accuracy: 0.9907 - loss: 1.1880e-04 - val_accuracy: 1.0000 - val_loss: 0.0000e+00\n",
            "Epoch 55: early stopping\n",
            "Restoring model weights from the end of the best epoch: 15.\n"
          ]
        }
      ],
      "source": [
        "# PatientEearly Stopping\n",
        "es = EarlyStopping(monitor='val_loss', mode='min', verbose=1, patience=40, restore_best_weights=True)\n",
        "\n",
        "# Add training parameters to model\n",
        "model.compile(loss='sparse_categorical_crossentropy',\n",
        "             optimizer=keras.optimizers.Adam(learning_rate=0.001), #SGD, RMSProp, Adam, nadam\n",
        "             loss_weights=0.01,\n",
        "             metrics=['accuracy'])\n",
        "\n",
        "# Train\n",
        "history_dop = model.fit(x_train,\n",
        "                   y_train,\n",
        "                   epochs=250,\n",
        "                   batch_size=4,\n",
        "                   validation_data=(x_val,y_val),\n",
        "                   callbacks = [es])"
      ]
    },
    {
      "cell_type": "markdown",
      "metadata": {},
      "source": [
        "### Plotting results"
      ]
    },
    {
      "cell_type": "code",
      "execution_count": 21,
      "metadata": {
        "colab": {
          "base_uri": "https://localhost:8080/",
          "height": 887
        },
        "id": "MdhXQlvkxL_l",
        "outputId": "71d7cde8-6156-49a0-981e-4601d6cb9cd5"
      },
      "outputs": [
        {
          "data": {
            "image/png": "[encoded data removed]",
            "text/plain": [
              "<Figure size 640x480 with 1 Axes>"
            ]
          },
          "metadata": {},
          "output_type": "display_data"
        },
        {
          "data": {
            "image/png": "[encoded data removed]",
            "text/plain": [
              "<Figure size 640x480 with 1 Axes>"
            ]
          },
          "metadata": {},
          "output_type": "display_data"
        }
      ],
      "source": [
        "# Plot results\n",
        "import matplotlib.pyplot as plt\n",
        "\n",
        "acc = history_dop.history['accuracy']\n",
        "val_acc = history_dop.history['val_accuracy']\n",
        "loss = history_dop.history['loss']\n",
        "val_loss = history_dop.history['val_loss']\n",
        "#recall = history.history['recall_1']\n",
        "#val_recall = history.history['val_recall_1']\n",
        "#precision = history.history['precision']\n",
        "#val_precision = history.history['val_precision']\n",
        "\n",
        "\n",
        "epochs = range(1, len(acc) + 1)\n",
        "\n",
        "# Plot the training and validation accuracy\n",
        "plt.plot(epochs, acc, 'g', label='Training acc')\n",
        "plt.plot(epochs, val_acc, 'b', label='Validation acc')\n",
        "plt.title('Training and validation accuracy')\n",
        "plt.legend()\n",
        "\n",
        "plt.figure()\n",
        "\n",
        "# Plot the training and validation loss\n",
        "plt.plot(epochs, loss, 'g', label='Training loss')\n",
        "plt.plot(epochs, val_loss, 'b', label='Validation loss')\n",
        "plt.title('Training and validation loss')\n",
        "plt.legend()\n",
        "\n",
        "plt.show()"
      ]
    },
    {
      "cell_type": "code",
      "execution_count": 22,
      "metadata": {
        "colab": {
          "base_uri": "https://localhost:8080/"
        },
        "id": "z0vQeRxVxL_l",
        "outputId": "41767039-2953-414d-bcc5-94fad24a5af8"
      },
      "outputs": [
        {
          "name": "stdout",
          "output_type": "stream",
          "text": [
            "6/6 - 0s - 58ms/step - accuracy: 1.0000 - loss: 0.0000e+00\n"
          ]
        }
      ],
      "source": [
        "# Model evaluation on test set\n",
        "test_loss, test_acc = model.evaluate(x_test, y_test, verbose=2)"
      ]
    },
    {
      "cell_type": "code",
      "execution_count": 23,
      "metadata": {
        "colab": {
          "base_uri": "https://localhost:8080/"
        },
        "id": "ZUDI6ZwtxL_m",
        "outputId": "a27983c2-4450-41ad-bd89-bde305c51745"
      },
      "outputs": [
        {
          "name": "stderr",
          "output_type": "stream",
          "text": [
            "WARNING:absl:You are saving your model as an HDF5 file via `model.save()` or `keras.saving.save_model(model)`. This file format is considered legacy. We recommend using instead the native Keras format, e.g. `model.save('my_model.keras')` or `keras.saving.save_model(model, 'my_model.keras')`. \n"
          ]
        },
        {
          "name": "stdout",
          "output_type": "stream",
          "text": [
            "saved model path : c:\\Users\\Iman\\Desktop\\Stage\\code\\cross_feature/all_targets_cross_0_741929408.h5\n"
          ]
        }
      ],
      "source": [
        "# Save the model as a file\n",
        "models.save_model(model, work_dir + '\\\\' + model_filename)\n",
        "\n",
        "print('saved model path :',work_dir + '/' + model_filename)"
      ]
    },
    {
      "cell_type": "code",
      "execution_count": 24,
      "metadata": {},
      "outputs": [
        {
          "name": "stdout",
          "output_type": "stream",
          "text": [
            "\u001b[1m6/6\u001b[0m \u001b[32m━━━━━━━━━━━━━━━━━━━━\u001b[0m\u001b[37m\u001b[0m \u001b[1m1s\u001b[0m 83ms/step\n",
            "[[2.38869760e-08 4.53586360e-13 1.00000000e+00]\n",
            " [1.00000000e+00 6.25298262e-01 1.65249369e-14]\n",
            " [1.06337657e-05 9.99999404e-01 1.87811511e-05]\n",
            " [2.18779874e-08 4.85302553e-13 1.00000000e+00]\n",
            " [2.19863328e-08 3.16541389e-13 1.00000000e+00]\n",
            " [1.00000000e+00 6.17445588e-01 1.86806086e-15]\n",
            " [1.00000000e+00 6.22809649e-01 7.69000037e-15]\n",
            " [2.51170320e-08 5.44363816e-13 1.00000000e+00]\n",
            " [2.27280825e-08 3.63341030e-13 1.00000000e+00]\n",
            " [2.47802721e-08 5.16643260e-13 1.00000000e+00]\n",
            " [6.52289555e-06 9.99999821e-01 4.16472585e-06]\n",
            " [4.19916120e-08 3.97476019e-12 1.00000000e+00]\n",
            " [1.00000000e+00 6.19089723e-01 3.47193786e-15]\n",
            " [2.09633390e-06 9.99999881e-01 4.11717883e-06]\n",
            " [2.72629336e-06 9.99999881e-01 6.13329757e-06]\n",
            " [1.11722311e-05 9.99999344e-01 1.94707536e-05]\n",
            " [1.00000000e+00 6.21961772e-01 5.29617430e-15]\n",
            " [9.20761522e-06 9.99999404e-01 2.02969204e-05]\n",
            " [6.41704219e-06 9.99999762e-01 5.90819354e-06]\n",
            " [2.33092283e-06 9.99999881e-01 4.19023490e-06]\n",
            " [1.00000000e+00 6.25007272e-01 1.18347350e-14]\n",
            " [1.00000000e+00 6.26952291e-01 2.03037033e-14]\n",
            " [1.00000000e+00 6.24306321e-01 1.14497653e-14]\n",
            " [2.20021903e-08 4.96832013e-13 1.00000000e+00]\n",
            " [1.00000000e+00 6.19926453e-01 3.63528542e-15]\n",
            " [1.00000000e+00 6.23591959e-01 8.18168521e-15]\n",
            " [1.35656464e-05 9.99999523e-01 1.06422167e-05]\n",
            " [7.96186228e-08 1.84804935e-10 1.00000000e+00]\n",
            " [2.29019719e-08 3.76144591e-13 1.00000000e+00]\n",
            " [3.29540308e-05 9.99998927e-01 1.44777750e-05]\n",
            " [2.71042245e-06 9.99999881e-01 5.97518147e-06]\n",
            " [7.26431699e-06 9.99999762e-01 6.23300184e-06]\n",
            " [1.00000000e+00 6.22583866e-01 6.55508761e-15]\n",
            " [1.00000000e+00 6.15830958e-01 1.41893551e-15]\n",
            " [1.00000000e+00 6.27428412e-01 1.69146533e-14]\n",
            " [2.16999076e-08 4.68609093e-13 1.00000000e+00]\n",
            " [1.00000000e+00 6.24716341e-01 1.26522870e-14]\n",
            " [1.00000000e+00 6.17998600e-01 2.63402661e-15]\n",
            " [1.00000000e+00 6.15542889e-01 1.17207930e-15]\n",
            " [1.08861000e-08 8.26702598e-14 1.00000000e+00]\n",
            " [2.62285056e-08 6.47054947e-13 1.00000000e+00]\n",
            " [2.22243079e-06 9.99999881e-01 5.34667424e-06]\n",
            " [7.97481607e-06 9.99999762e-01 5.93069490e-06]\n",
            " [1.00000000e+00 6.27474010e-01 1.86726042e-14]\n",
            " [1.00000000e+00 6.26008868e-01 1.61743127e-14]\n",
            " [1.00000000e+00 6.25161409e-01 1.66043022e-14]\n",
            " [1.00000000e+00 6.18949175e-01 3.10061175e-15]\n",
            " [1.00000000e+00 6.17705584e-01 2.45147661e-15]\n",
            " [6.97070072e-06 9.99999762e-01 5.91046501e-06]\n",
            " [2.52212047e-08 5.52706427e-13 1.00000000e+00]\n",
            " [2.37933957e-08 4.47735355e-13 1.00000000e+00]\n",
            " [2.53190482e-08 5.73119026e-13 1.00000000e+00]\n",
            " [4.63519837e-06 9.99999821e-01 6.09998369e-06]\n",
            " [2.65237627e-08 6.79278086e-13 1.00000000e+00]\n",
            " [2.63010449e-08 6.58012273e-13 1.00000000e+00]\n",
            " [1.84875114e-06 9.99999940e-01 2.50118478e-06]\n",
            " [5.85014186e-06 9.99999821e-01 3.64314610e-06]\n",
            " [1.00000000e+00 6.16541862e-01 1.88719894e-15]\n",
            " [1.00000000e+00 6.22016668e-01 5.47082106e-15]\n",
            " [1.00000000e+00 6.12793207e-01 7.66878696e-16]\n",
            " [2.52532164e-08 5.66223771e-13 1.00000000e+00]\n",
            " [3.68594146e-14 5.54821718e-18 1.00000000e+00]\n",
            " [1.18590988e-05 9.99999404e-01 1.45363383e-05]\n",
            " [1.00000000e+00 6.18071437e-01 2.68758705e-15]\n",
            " [5.97755798e-06 9.99999821e-01 5.33709681e-06]\n",
            " [2.52861838e-08 5.70059841e-13 1.00000000e+00]\n",
            " [1.00000000e+00 6.24936461e-01 1.23179182e-14]\n",
            " [2.23885230e-08 5.52375528e-13 1.00000000e+00]\n",
            " [9.39016718e-06 9.99999642e-01 9.62589183e-06]\n",
            " [1.63352142e-05 9.99999523e-01 7.81851213e-06]\n",
            " [1.00000000e+00 6.23601973e-01 7.68407707e-15]\n",
            " [1.00000000e+00 6.21585131e-01 5.40337267e-15]\n",
            " [1.00000000e+00 6.23837352e-01 8.60969858e-15]\n",
            " [3.22785900e-06 9.99999821e-01 7.76443449e-06]\n",
            " [2.24040423e-06 9.99999881e-01 4.55070312e-06]\n",
            " [2.54474450e-08 5.74073016e-13 1.00000000e+00]\n",
            " [2.41718201e-08 4.77579998e-13 1.00000000e+00]\n",
            " [2.63387960e-08 6.60852341e-13 1.00000000e+00]\n",
            " [4.91581022e-06 9.99999821e-01 5.77869514e-06]\n",
            " [1.00000000e+00 6.12252474e-01 7.88305771e-16]\n",
            " [1.00000000e+00 6.13869786e-01 9.33501035e-16]\n",
            " [1.00000000e+00 6.23855114e-01 9.64689466e-15]\n",
            " [1.00000000e+00 6.18963540e-01 2.45660667e-15]\n",
            " [1.12074376e-08 8.75191101e-14 1.00000000e+00]\n",
            " [3.99847249e-06 9.99999821e-01 5.98619499e-06]\n",
            " [2.58755612e-08 6.08394791e-13 1.00000000e+00]\n",
            " [1.00000000e+00 6.24541283e-01 1.05711812e-14]\n",
            " [1.00000000e+00 6.25058293e-01 1.37527497e-14]\n",
            " [1.30289163e-05 9.99999404e-01 1.36527060e-05]\n",
            " [1.00000000e+00 6.25991344e-01 1.50267406e-14]\n",
            " [1.11002167e-08 8.55502938e-14 1.00000000e+00]\n",
            " [2.61618652e-06 9.99999881e-01 4.33931064e-06]\n",
            " [2.18280949e-08 3.07491391e-13 1.00000000e+00]\n",
            " [1.11827969e-08 8.57983525e-14 1.00000000e+00]\n",
            " [1.00000000e+00 6.25953436e-01 1.81720263e-14]\n",
            " [6.13078282e-06 9.99999762e-01 7.28915347e-06]\n",
            " [1.00000000e+00 6.21810555e-01 5.21563629e-15]\n",
            " [6.02280807e-06 9.99999762e-01 7.48089815e-06]\n",
            " [1.19429815e-05 9.99999464e-01 1.26348205e-05]\n",
            " [3.85128078e-06 9.99999821e-01 5.17857961e-06]\n",
            " [1.00000000e+00 6.18905723e-01 2.65177047e-15]\n",
            " [4.33784999e-06 9.99999821e-01 5.08030644e-06]\n",
            " [4.94290680e-06 9.99999821e-01 6.45454338e-06]\n",
            " [6.69547589e-05 9.99997795e-01 2.33447900e-05]\n",
            " [1.00000000e+00 6.12068355e-01 8.11228441e-16]\n",
            " [1.00081570e-05 9.99999583e-01 9.47153512e-06]\n",
            " [1.86716607e-05 9.99999285e-01 1.38437608e-05]\n",
            " [1.00000000e+00 6.14367425e-01 8.56465294e-16]\n",
            " [2.94514462e-06 9.99999821e-01 6.95670769e-06]\n",
            " [1.43587686e-05 9.99999404e-01 1.21153189e-05]\n",
            " [2.48515698e-05 9.99998927e-01 2.04133503e-05]\n",
            " [1.00000000e+00 6.22784376e-01 8.30257460e-15]\n",
            " [1.00000000e+00 6.21012270e-01 4.37156288e-15]\n",
            " [8.93502511e-06 9.99999464e-01 1.72130804e-05]\n",
            " [7.83389638e-08 1.76139089e-10 1.00000000e+00]\n",
            " [1.00000000e+00 6.25452042e-01 1.48592957e-14]\n",
            " [1.00000000e+00 6.14532828e-01 9.06974504e-16]\n",
            " [1.00000000e+00 6.25217199e-01 1.42862847e-14]\n",
            " [3.39878441e-14 5.35389591e-18 1.00000000e+00]\n",
            " [8.77751245e-06 9.99999583e-01 1.22704087e-05]\n",
            " [4.14596980e-06 9.99999702e-01 1.28389775e-05]\n",
            " [1.00000000e+00 6.19355679e-01 3.49623331e-15]\n",
            " [8.38593621e-08 2.40135356e-10 1.00000000e+00]\n",
            " [2.17966019e-08 4.77130271e-13 1.00000000e+00]\n",
            " [2.27323858e-06 9.99999940e-01 3.03390789e-06]\n",
            " [2.19379928e-08 3.14121179e-13 1.00000000e+00]\n",
            " [4.23446949e-08 1.00000000e+00 1.02152207e-07]\n",
            " [1.00000000e+00 6.18463635e-01 2.69556504e-15]\n",
            " [4.36886971e-08 4.64116419e-12 1.00000000e+00]\n",
            " [2.28329711e-08 3.69968487e-13 1.00000000e+00]\n",
            " [4.25258577e-06 9.99999702e-01 1.30652852e-05]\n",
            " [8.00440532e-08 1.93119479e-10 1.00000000e+00]\n",
            " [1.00000000e+00 6.23138547e-01 8.01043971e-15]\n",
            " [2.27151240e-08 3.62342399e-13 1.00000000e+00]\n",
            " [2.54080632e-08 5.82227625e-13 1.00000000e+00]\n",
            " [2.55782471e-08 5.88036618e-13 1.00000000e+00]\n",
            " [2.65196665e-08 6.83136978e-13 1.00000000e+00]\n",
            " [2.77044978e-06 9.99999881e-01 3.04901346e-06]\n",
            " [1.11144747e-08 8.30270707e-14 1.00000000e+00]\n",
            " [4.30228511e-08 4.39746069e-12 1.00000000e+00]\n",
            " [1.00000000e+00 6.14090025e-01 1.06598991e-15]\n",
            " [2.17431193e-08 3.01353099e-13 1.00000000e+00]\n",
            " [2.48363445e-08 5.20603959e-13 1.00000000e+00]\n",
            " [1.00000000e+00 6.23568058e-01 1.24270855e-14]\n",
            " [7.86463232e-08 1.79164877e-10 1.00000000e+00]\n",
            " [2.51162167e-08 5.52301748e-13 1.00000000e+00]\n",
            " [4.19506114e-06 9.99999762e-01 1.20026862e-05]\n",
            " [2.31051143e-08 3.92862311e-13 1.00000000e+00]\n",
            " [1.00000000e+00 6.24757946e-01 1.24396072e-14]\n",
            " [2.55440427e-05 9.99998689e-01 2.75985203e-05]\n",
            " [2.62974336e-08 6.53576856e-13 1.00000000e+00]\n",
            " [1.35146684e-05 9.99999464e-01 1.20393033e-05]\n",
            " [1.00000000e+00 6.20409966e-01 4.12128243e-15]\n",
            " [1.00000000e+00 6.27386272e-01 1.62720010e-14]\n",
            " [1.10908198e-08 8.14264563e-14 1.00000000e+00]\n",
            " [1.00000000e+00 6.18384123e-01 2.34075967e-15]\n",
            " [2.55348649e-08 5.78913328e-13 1.00000000e+00]\n",
            " [1.11866791e-08 8.67956423e-14 1.00000000e+00]\n",
            " [1.00000000e+00 6.21441662e-01 4.69976358e-15]\n",
            " [4.30205682e-06 9.99999762e-01 1.01058495e-05]\n",
            " [1.03400162e-05 9.99999642e-01 8.47222327e-06]\n",
            " [2.18801990e-08 3.10608473e-13 1.00000000e+00]]\n",
            "[2 0 1 2 2 0 0 2 2 2 1 2 0 1 1 1 0 1 1 1 0 0 0 2 0 0 1 2 2 1 1 1 0 0 0 2 0\n",
            " 0 0 2 2 1 1 0 0 0 0 0 1 2 2 2 1 2 2 1 1 0 0 0 2 2 1 0 1 2 0 2 1 1 0 0 0 1\n",
            " 1 2 2 2 1 0 0 0 0 2 1 2 0 0 1 0 2 1 2 2 0 1 0 1 1 1 0 1 1 1 0 1 1 0 1 1 1\n",
            " 0 0 1 2 0 0 0 2 1 1 0 2 2 1 2 1 0 2 2 1 2 0 2 2 2 2 1 2 2 0 2 2 0 2 2 1 2\n",
            " 0 1 2 1 0 0 2 0 2 2 0 1 1 2]\n"
          ]
        }
      ],
      "source": [
        "print(model.predict(x_test))\n",
        "print(y_test)"
      ]
    },
    {
      "cell_type": "markdown",
      "metadata": {},
      "source": [
        "## Confusion matrix"
      ]
    },
    {
      "cell_type": "code",
      "execution_count": 25,
      "metadata": {
        "id": "VFxRtA8VQYre"
      },
      "outputs": [],
      "source": [
        "import seaborn as sns\n",
        "import tensorflow as tf\n"
      ]
    },
    {
      "cell_type": "code",
      "execution_count": 26,
      "metadata": {
        "colab": {
          "base_uri": "https://localhost:8080/"
        },
        "id": "RJddK4YnRUYV",
        "outputId": "3a302bca-f43f-4e2b-8768-23d611e6c951"
      },
      "outputs": [
        {
          "name": "stdout",
          "output_type": "stream",
          "text": [
            "\u001b[1m24/24\u001b[0m \u001b[32m━━━━━━━━━━━━━━━━━━━━\u001b[0m\u001b[37m\u001b[0m \u001b[1m2s\u001b[0m 60ms/step\n"
          ]
        },
        {
          "data": {
            "image/png": "[encoded data removed]",
            "text/plain": [
              "<Figure size 800x800 with 2 Axes>"
            ]
          },
          "metadata": {},
          "output_type": "display_data"
        }
      ],
      "source": [
        "y_true=y_train\n",
        "predict_y=model.predict(x_train)\n",
        "y_pred=np.argmax(predict_y,axis=1)\n",
        "\n",
        "classes = [0,1,2]\n",
        "con_mat = tf.math.confusion_matrix(labels=y_true, predictions=y_pred).numpy()\n",
        "con_mat_norm = np.around(con_mat.astype('float')) #/ con_mat.sum(axis=1)[:, np.newaxis], decimals=2)\n",
        "con_mat_df = pd.DataFrame(con_mat_norm,\n",
        "                     index = classes,\n",
        "                     columns = classes)\n",
        "\n",
        "figure = plt.figure(figsize=(8, 8))\n",
        "sns.heatmap(con_mat_df, annot=True,cmap=plt.cm.Blues)\n",
        "plt.tight_layout()\n",
        "plt.ylabel('True label')\n",
        "plt.xlabel('Predicted label')\n",
        "plt.xticks([0,1,2],['banging', 'penetration','steady'])\n",
        "plt.yticks([0,1,2],['banging', 'penetration','steady'])\n",
        "plt.show()"
      ]
    },
    {
      "cell_type": "code",
      "execution_count": 27,
      "metadata": {
        "colab": {
          "base_uri": "https://localhost:8080/",
          "height": 854
        },
        "id": "lMEBA9vTQZkU",
        "outputId": "f5dacaed-35ac-427d-df35-6b648e0db0c8"
      },
      "outputs": [
        {
          "ename": "NameError",
          "evalue": "name 'y_train_az' is not defined",
          "output_type": "error",
          "traceback": [
            "\u001b[1;31m---------------------------------------------------------------------------\u001b[0m",
            "\u001b[1;31mNameError\u001b[0m                                 Traceback (most recent call last)",
            "Cell \u001b[1;32mIn[27], line 1\u001b[0m\n\u001b[1;32m----> 1\u001b[0m y_true\u001b[38;5;241m=\u001b[39m\u001b[43my_train_az\u001b[49m\n\u001b[0;32m      2\u001b[0m predict_y\u001b[38;5;241m=\u001b[39mmodel\u001b[38;5;241m.\u001b[39mpredict(x_train_az)\n\u001b[0;32m      3\u001b[0m y_pred\u001b[38;5;241m=\u001b[39mnp\u001b[38;5;241m.\u001b[39margmax(predict_y,axis\u001b[38;5;241m=\u001b[39m\u001b[38;5;241m1\u001b[39m)\n",
            "\u001b[1;31mNameError\u001b[0m: name 'y_train_az' is not defined"
          ]
        }
      ],
      "source": [
        "y_true=y_train_az\n",
        "predict_y=model.predict(x_train_az)\n",
        "y_pred=np.argmax(predict_y,axis=1)\n",
        "\n",
        "classes = [0,1]\n",
        "con_mat = tf.math.confusion_matrix(labels=y_true, predictions=y_pred).numpy()\n",
        "con_mat_norm = np.around(con_mat.astype('float')) #/ con_mat.sum(axis=1)[:, np.newaxis], decimals=2)\n",
        "con_mat_df = pd.DataFrame(con_mat_norm,\n",
        "                     index = classes,\n",
        "                     columns = classes)\n",
        "\n",
        "figure = plt.figure(figsize=(8, 8))\n",
        "sns.heatmap(con_mat_df, annot=True,cmap=plt.cm.Blues)\n",
        "plt.tight_layout()\n",
        "plt.ylabel('True label')\n",
        "plt.xlabel('Predicted label')\n",
        "plt.xticks([0,1,2],['banging', 'penetration','steady'])\n",
        "plt.yticks([0,1,2],['banging', 'penetration','steady'])\n",
        "plt.show()\n"
      ]
    },
    {
      "cell_type": "code",
      "execution_count": null,
      "metadata": {},
      "outputs": [
        {
          "ename": "FileNotFoundError",
          "evalue": "[Errno 2] No such file or directory: 'c:\\\\Users\\\\Iman\\\\Desktop\\\\Stage\\\\code\\\\all_targets_0_13017_test_classes_55.npz'",
          "output_type": "error",
          "traceback": [
            "\u001b[1;31m---------------------------------------------------------------------------\u001b[0m",
            "\u001b[1;31mFileNotFoundError\u001b[0m                         Traceback (most recent call last)",
            "Cell \u001b[1;32mIn[25], line 5\u001b[0m\n\u001b[0;32m      2\u001b[0m \u001b[38;5;28;01mimport\u001b[39;00m \u001b[38;5;21;01mscipy\u001b[39;00m\u001b[38;5;21;01m.\u001b[39;00m\u001b[38;5;21;01minterpolate\u001b[39;00m \u001b[38;5;28;01mas\u001b[39;00m \u001b[38;5;21;01mspi\u001b[39;00m\n\u001b[0;32m      4\u001b[0m \u001b[38;5;66;03m# Load archive with the data to be predicted .npz\u001b[39;00m\n\u001b[1;32m----> 5\u001b[0m test_npz \u001b[38;5;241m=\u001b[39m \u001b[43mnp\u001b[49m\u001b[38;5;241;43m.\u001b[39;49m\u001b[43mload\u001b[49m\u001b[43m(\u001b[49m\u001b[43mos\u001b[49m\u001b[38;5;241;43m.\u001b[39;49m\u001b[43mgetcwd\u001b[49m\u001b[43m(\u001b[49m\u001b[43m)\u001b[49m\u001b[38;5;241;43m+\u001b[39;49m\u001b[38;5;124;43m'\u001b[39;49m\u001b[38;5;130;43;01m\\\\\u001b[39;49;00m\u001b[38;5;124;43mall_targets_0_13017_test_classes_55.npz\u001b[39;49m\u001b[38;5;124;43m'\u001b[39;49m\u001b[43m)\u001b[49m\n\u001b[0;32m      6\u001b[0m test_in \u001b[38;5;241m=\u001b[39m test_npz[\u001b[38;5;124m'\u001b[39m\u001b[38;5;124mx_test\u001b[39m\u001b[38;5;124m'\u001b[39m]                                  \n\u001b[0;32m      8\u001b[0m \u001b[38;5;28mprint\u001b[39m(test_in\u001b[38;5;241m.\u001b[39mshape)\n",
            "File \u001b[1;32mc:\\Users\\Iman\\Desktop\\Stage\\code\\myenv\\Lib\\site-packages\\numpy\\lib\\npyio.py:427\u001b[0m, in \u001b[0;36mload\u001b[1;34m(file, mmap_mode, allow_pickle, fix_imports, encoding, max_header_size)\u001b[0m\n\u001b[0;32m    425\u001b[0m     own_fid \u001b[38;5;241m=\u001b[39m \u001b[38;5;28;01mFalse\u001b[39;00m\n\u001b[0;32m    426\u001b[0m \u001b[38;5;28;01melse\u001b[39;00m:\n\u001b[1;32m--> 427\u001b[0m     fid \u001b[38;5;241m=\u001b[39m stack\u001b[38;5;241m.\u001b[39menter_context(\u001b[38;5;28;43mopen\u001b[39;49m\u001b[43m(\u001b[49m\u001b[43mos_fspath\u001b[49m\u001b[43m(\u001b[49m\u001b[43mfile\u001b[49m\u001b[43m)\u001b[49m\u001b[43m,\u001b[49m\u001b[43m \u001b[49m\u001b[38;5;124;43m\"\u001b[39;49m\u001b[38;5;124;43mrb\u001b[39;49m\u001b[38;5;124;43m\"\u001b[39;49m\u001b[43m)\u001b[49m)\n\u001b[0;32m    428\u001b[0m     own_fid \u001b[38;5;241m=\u001b[39m \u001b[38;5;28;01mTrue\u001b[39;00m\n\u001b[0;32m    430\u001b[0m \u001b[38;5;66;03m# Code to distinguish from NumPy binary files and pickles.\u001b[39;00m\n",
            "\u001b[1;31mFileNotFoundError\u001b[0m: [Errno 2] No such file or directory: 'c:\\\\Users\\\\Iman\\\\Desktop\\\\Stage\\\\code\\\\all_targets_0_13017_test_classes_55.npz'"
          ]
        }
      ],
      "source": [
        "# Prediction test with unclassified parameters\n",
        "import scipy.interpolate as spi\n",
        "\n",
        "# Load archive with the data to be predicted, put in shape with preparing_dataset_1folder\n",
        "test_npz = np.load(os.getcwd()+'\\\\all_targets_0_13017_test_classes_55.npz')\n",
        "test_in = test_npz['x_test']                                  \n",
        "\n",
        "print(test_in.shape)\n",
        "test_in_reshape = test_in.reshape(int(test_in.shape[0]/(NUMBER_ROWS_AZ)),                  # Resize with sample shape\n",
        "                          NUMBER_ROWS_AZ,\n",
        "                          NUMBER_COlUMNS_AZ,\n",
        "                          1)\n",
        "\n",
        "print('number of samples :',test_in_reshape.shape[0])\n",
        "print('test samples shape :',test_in_reshape.shape[1:])\n",
        "\n",
        "# Prediction on test sample pack\n",
        "label = model.predict(test_in_reshape)\n",
        "num_samples = test_in_reshape.shape[0]\n",
        "\n",
        "# Loop throught the sample pack to display some of the predictions\n",
        "for i in range (0,num_samples,10):\n",
        "    print(\"Predicted Class for sample\",i,\"(0-idle, 1-presence) \\n0 : \",label[i][0],\"\\n1 : \",label[i][1])    # Print predicted class\n",
        "    sample = test_in[128*i:128*(i+1),:].reshape(\n",
        "                          NUMBER_ROWS_AZ,\n",
        "                          NUMBER_COlUMNS_AZ)\n",
        "    range_res = 0.0436\n",
        "    range_bins = sample.shape[0]\n",
        "    angle_bins = sample.shape[1]\n",
        "    theta = np.arcsin(np.linspace(-angle_bins / 2 + 1, angle_bins / 2 - 1, angle_bins) * (2 / angle_bins))  # Angular linear space for plotting\n",
        "    range = np.linspace(0, range_bins - 1, range_bins) * range_res                                          # Range linear space for plotting\n",
        "    range = np.maximum(range,0)                                                                                 # Keep only positive range value (later add range bias correction)\n",
        "    range_depth = range_bins * range_res                                                         \n",
        "    range_width, grid_res = range_depth/2, 64\n",
        "\n",
        "    # Grid construction\n",
        "    posX = np.outer(range, np.sin(theta))\n",
        "    posY = np.outer(range, np.cos(theta))\n",
        "    xlin = np.linspace(-np.floor(range_width), np.ceil(range_width), angle_bins)\n",
        "    ylin = np.linspace(0, range_depth, range_bins)\n",
        "    xgrid, ygrid = np.meshgrid(xlin, ylin)\n",
        "    ra_grid = spi.griddata((posX.flatten(), posY.flatten()), sample.flatten(),(xgrid, ygrid), method='cubic')\n",
        "    grid_init = 1\n",
        "        \n",
        "    hmplot = plt.contourf(xlin,ylin,sample,cmap='Spectral_r')\n",
        "    plt.title(i)\n",
        "    plt.show()\n",
        "    #print(\"Expected prediction : \",expected[i],\"\\n\")\n",
        "\n",
        "\n",
        "\"\"\"     fig, subs = plt.subplots(2,2)\n",
        "    for x in range(0,4,1): \n",
        "        f = sample[:,:,x]\n",
        "        # read the csv file\n",
        "        if (x < 2):\n",
        "            subs[x][0].imshow(f, cmap='Spectral_r', interpolation='nearest', aspect='auto')\n",
        "        else:\n",
        "            subs[x-2][1].imshow(f, cmap='Spectral_r', interpolation='nearest', aspect='auto') \"\"\" #Doppler plotting"
      ]
    }
  ],
  "metadata": {
    "accelerator": "GPU",
    "colab": {
      "gpuType": "T4",
      "provenance": []
    },
    "kernelspec": {
      "display_name": "Python 3",
      "name": "python3"
    },
    "language_info": {
      "codemirror_mode": {
        "name": "ipython",
        "version": 3
      },
      "file_extension": ".py",
      "mimetype": "text/x-python",
      "name": "python",
      "nbconvert_exporter": "python",
      "pygments_lexer": "ipython3",
      "version": "3.12.3"
    },
    "varInspector": {
      "cols": {
        "lenName": 16,
        "lenType": 16,
        "lenVar": 40
      },
      "kernels_config": {
        "python": {
          "delete_cmd_postfix": "",
          "delete_cmd_prefix": "del ",
          "library": "var_list.py",
          "varRefreshCmd": "print(var_dic_list())"
        },
        "r": {
          "delete_cmd_postfix": ") ",
          "delete_cmd_prefix": "rm(",
          "library": "var_list.r",
          "varRefreshCmd": "cat(var_dic_list()) "
        }
      },
      "types_to_exclude": [
        "module",
        "function",
        "builtin_function_or_method",
        "instance",
        "_Feature"
      ],
      "window_display": false
    },
    "vscode": {
      "interpreter": {
        "hash": "9ee9defd707f6d081fdcbf65a76d1a753d4fe552b5d7c258c2f2fa8deb871eb0"
      }
    }
  },
  "nbformat": 4,
  "nbformat_minor": 0
}
